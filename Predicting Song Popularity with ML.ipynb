{
 "cells": [
  {
   "cell_type": "markdown",
   "metadata": {},
   "source": [
    "# Predicting Song Popularity with ML\n",
    "\n",
    "\n",
    "* Student name: Tim Rabbitt\n",
    "* Student pace: Self paced\n",
    "* Scheduled project review date/time: 11/23/22 11:00AM \n",
    "* Instructor name: Abhineet Kulkarni"
   ]
  },
  {
   "cell_type": "markdown",
   "metadata": {},
   "source": [
    "## Business Understanding\n",
    "Rabbitt Record Company has signed many new talented music artists with the hope that their acquired talent can create some of the more popular tracks in circulation. Considering today's creative and competitive music industry, the record company would like to get a leg up on the competition by providing its artists with the helpful information they need to produce the next big hit. \n",
    "\n",
    "**Stakeholder:** Rabbitt Record Company\n",
    "\n",
    "**Business Problem:** Rabbitt Record Company would like to help their artists write the most popular songs on the market.\n",
    "\n",
    "**Business Question:** Can we accurately predict a newly written song's popularity given certain audio statistics? Which of these statistics is most important in determining popularity?\n",
    "\n",
    "By analyzing the top songs of the 2000s and the features that contributed to their success, we hope to be able to accurately predict a newly written song's popularity, specifically whether or not that song will be in the top 20 percent. Additionally, we hope to learn what features contribute the most to its popularity."
   ]
  },
  {
   "cell_type": "markdown",
   "metadata": {},
   "source": [
    "## Data Understanding\n",
    "\n",
    "The data used for this analysis was provided by Kaggle. This dataset contains audio statistics of the top 2000 tracks on Spotify from 2000-2019. The data contains about 18 columns each describing the track and its qualities.\n",
    "\n",
    "\n",
    "* `artist`: Name of the Artist.\n",
    "* `song`: Name of the Track.\n",
    "* `duration_ms`: Duration of the track in milliseconds.\n",
    "* `explicit`: The lyrics or content of a song or a music video contain one or more of the criteria which could be considered offensive or unsuitable for children.\n",
    "* `year`: Release Year of the track.\n",
    "* `popularity`: The higher the value the more popular the song is.\n",
    "* `danceability`: Danceability describes how suitable a track is for dancing based on a combination of musical elements including tempo, rhythm stability, beat strength, and overall regularity. A value of 0.0 is least danceable and 1.0 is most danceable.\n",
    "* `energy`: Energy is a measure from 0.0 to 1.0 and represents a perceptual measure of intensity and activity.\n",
    "* `key`: The key the track is in. Integers map to pitches using standard Pitch Class notation. E.g. 0 = C, 1 = C♯/D♭, 2 = D, and so on. If no key was detected, the value is -1.\n",
    "* `loudness`: The overall loudness of a track in decibels (dB). Loudness values are averaged across the entire track and are useful for comparing relative loudness of tracks. Loudness is the quality of a sound that is the primary psychological correlate of physical strength (amplitude). Values typically range between -60 and 0 db.\n",
    "* `mode`: Mode indicates the modality (major or minor) of a track, the type of scale from which its melodic content is derived. Major is represented by 1 and minor is 0.\n",
    "* `speechiness`: Speechiness detects the presence of spoken words in a track. The more exclusively speech-like the recording (e.g. talk show, audio book, poetry), the closer to 1.0 the attribute value. Values above 0.66 describe tracks that are probably made entirely of spoken words. Values between 0.33 and 0.66 describe tracks that may contain both music and speech, either in sections or layered, including such cases as rap music. Values below 0.33 most likely represent music and other non-speech-like tracks.\n",
    "* `acousticness`: A confidence measure from 0.0 to 1.0 of whether the track is acoustic. 1.0 represents high confidence the track is acoustic.\n",
    "* `instrumentalness`: Predicts whether a track contains no vocals. \"Ooh\" and \"aah\" sounds are treated as instrumental in this context. Rap or spoken word tracks are clearly \"vocal\". The closer the instrumentalness value is to 1.0, the greater likelihood the track contains no vocal content. Values above 0.5 are intended to represent instrumental tracks, but confidence is higher as the value approaches 1.0.\n",
    "* `liveness`: Detects the presence of an audience in the recording. Higher liveness values represent an increased probability that the track was performed live. A value above 0.8 provides strong likelihood that the track is live.\n",
    "* `valence`: A measure from 0.0 to 1.0 describing the musical positiveness conveyed by a track. Tracks with high valence sound more positive (e.g. happy, cheerful, euphoric), while tracks with low valence sound more negative (e.g. sad, depressed, angry).\n",
    "* `tempo`: The overall estimated tempo of a track in beats per minute (BPM). In musical terminology, tempo is the speed or pace of a given piece and derives directly from the average beat duration.\n",
    "* `genre`: Genre of the track.\n",
    "\n",
    "Further information on this dataset can be found at [Kaggle.com](https://www.kaggle.com/datasets/paradisejoy/top-hits-spotify-from-20002019)"
   ]
  },
  {
   "cell_type": "markdown",
   "metadata": {},
   "source": [
    "## Methods\n",
    "\n",
    "While a linear regression model would be appropriate for this analysis, we wanted to build a classification model that would predict whether or not a song's popularity would be in the 80th percentile. We have divided the popularity column into 2 classes (A, B). Class A represents the 80th percentile, while Class B represents all songs below the 80th percentile. We then built multiple classification models including Decision Tree, K-Nearest Neighbors, Random Forest, and Gradient Boosting. Using an iterative approach beginning with a baseline model and followed by hyperparameter tuning using GridSearchCV, we believe we can produce an adequate model to predict song popularity. "
   ]
  },
  {
   "cell_type": "markdown",
   "metadata": {},
   "source": [
    "## Data Preparation"
   ]
  },
  {
   "cell_type": "code",
   "execution_count": 1,
   "metadata": {},
   "outputs": [],
   "source": [
    "#Importing useful libraries\n",
    "\n",
    "import pandas as pd\n",
    "import matplotlib.pyplot as plt\n",
    "import numpy as np\n",
    "from sklearn.model_selection import train_test_split, GridSearchCV\n",
    "import seaborn as sns"
   ]
  },
  {
   "cell_type": "code",
   "execution_count": 2,
   "metadata": {},
   "outputs": [
    {
     "data": {
      "text/html": [
       "<div>\n",
       "<style scoped>\n",
       "    .dataframe tbody tr th:only-of-type {\n",
       "        vertical-align: middle;\n",
       "    }\n",
       "\n",
       "    .dataframe tbody tr th {\n",
       "        vertical-align: top;\n",
       "    }\n",
       "\n",
       "    .dataframe thead th {\n",
       "        text-align: right;\n",
       "    }\n",
       "</style>\n",
       "<table border=\"1\" class=\"dataframe\">\n",
       "  <thead>\n",
       "    <tr style=\"text-align: right;\">\n",
       "      <th></th>\n",
       "      <th>artist</th>\n",
       "      <th>song</th>\n",
       "      <th>duration_ms</th>\n",
       "      <th>explicit</th>\n",
       "      <th>year</th>\n",
       "      <th>popularity</th>\n",
       "      <th>danceability</th>\n",
       "      <th>energy</th>\n",
       "      <th>key</th>\n",
       "      <th>loudness</th>\n",
       "      <th>mode</th>\n",
       "      <th>speechiness</th>\n",
       "      <th>acousticness</th>\n",
       "      <th>instrumentalness</th>\n",
       "      <th>liveness</th>\n",
       "      <th>valence</th>\n",
       "      <th>tempo</th>\n",
       "      <th>genre</th>\n",
       "    </tr>\n",
       "  </thead>\n",
       "  <tbody>\n",
       "    <tr>\n",
       "      <th>0</th>\n",
       "      <td>Britney Spears</td>\n",
       "      <td>Oops!...I Did It Again</td>\n",
       "      <td>211160</td>\n",
       "      <td>False</td>\n",
       "      <td>2000</td>\n",
       "      <td>77</td>\n",
       "      <td>0.751</td>\n",
       "      <td>0.834</td>\n",
       "      <td>1</td>\n",
       "      <td>-5.444</td>\n",
       "      <td>0</td>\n",
       "      <td>0.0437</td>\n",
       "      <td>0.3000</td>\n",
       "      <td>0.000018</td>\n",
       "      <td>0.3550</td>\n",
       "      <td>0.894</td>\n",
       "      <td>95.053</td>\n",
       "      <td>pop</td>\n",
       "    </tr>\n",
       "    <tr>\n",
       "      <th>1</th>\n",
       "      <td>blink-182</td>\n",
       "      <td>All The Small Things</td>\n",
       "      <td>167066</td>\n",
       "      <td>False</td>\n",
       "      <td>1999</td>\n",
       "      <td>79</td>\n",
       "      <td>0.434</td>\n",
       "      <td>0.897</td>\n",
       "      <td>0</td>\n",
       "      <td>-4.918</td>\n",
       "      <td>1</td>\n",
       "      <td>0.0488</td>\n",
       "      <td>0.0103</td>\n",
       "      <td>0.000000</td>\n",
       "      <td>0.6120</td>\n",
       "      <td>0.684</td>\n",
       "      <td>148.726</td>\n",
       "      <td>rock, pop</td>\n",
       "    </tr>\n",
       "    <tr>\n",
       "      <th>2</th>\n",
       "      <td>Faith Hill</td>\n",
       "      <td>Breathe</td>\n",
       "      <td>250546</td>\n",
       "      <td>False</td>\n",
       "      <td>1999</td>\n",
       "      <td>66</td>\n",
       "      <td>0.529</td>\n",
       "      <td>0.496</td>\n",
       "      <td>7</td>\n",
       "      <td>-9.007</td>\n",
       "      <td>1</td>\n",
       "      <td>0.0290</td>\n",
       "      <td>0.1730</td>\n",
       "      <td>0.000000</td>\n",
       "      <td>0.2510</td>\n",
       "      <td>0.278</td>\n",
       "      <td>136.859</td>\n",
       "      <td>pop, country</td>\n",
       "    </tr>\n",
       "    <tr>\n",
       "      <th>3</th>\n",
       "      <td>Bon Jovi</td>\n",
       "      <td>It's My Life</td>\n",
       "      <td>224493</td>\n",
       "      <td>False</td>\n",
       "      <td>2000</td>\n",
       "      <td>78</td>\n",
       "      <td>0.551</td>\n",
       "      <td>0.913</td>\n",
       "      <td>0</td>\n",
       "      <td>-4.063</td>\n",
       "      <td>0</td>\n",
       "      <td>0.0466</td>\n",
       "      <td>0.0263</td>\n",
       "      <td>0.000014</td>\n",
       "      <td>0.3470</td>\n",
       "      <td>0.544</td>\n",
       "      <td>119.992</td>\n",
       "      <td>rock, metal</td>\n",
       "    </tr>\n",
       "    <tr>\n",
       "      <th>4</th>\n",
       "      <td>*NSYNC</td>\n",
       "      <td>Bye Bye Bye</td>\n",
       "      <td>200560</td>\n",
       "      <td>False</td>\n",
       "      <td>2000</td>\n",
       "      <td>65</td>\n",
       "      <td>0.614</td>\n",
       "      <td>0.928</td>\n",
       "      <td>8</td>\n",
       "      <td>-4.806</td>\n",
       "      <td>0</td>\n",
       "      <td>0.0516</td>\n",
       "      <td>0.0408</td>\n",
       "      <td>0.001040</td>\n",
       "      <td>0.0845</td>\n",
       "      <td>0.879</td>\n",
       "      <td>172.656</td>\n",
       "      <td>pop</td>\n",
       "    </tr>\n",
       "  </tbody>\n",
       "</table>\n",
       "</div>"
      ],
      "text/plain": [
       "           artist                    song  duration_ms  explicit  year  \\\n",
       "0  Britney Spears  Oops!...I Did It Again       211160     False  2000   \n",
       "1       blink-182    All The Small Things       167066     False  1999   \n",
       "2      Faith Hill                 Breathe       250546     False  1999   \n",
       "3        Bon Jovi            It's My Life       224493     False  2000   \n",
       "4          *NSYNC             Bye Bye Bye       200560     False  2000   \n",
       "\n",
       "   popularity  danceability  energy  key  loudness  mode  speechiness  \\\n",
       "0          77         0.751   0.834    1    -5.444     0       0.0437   \n",
       "1          79         0.434   0.897    0    -4.918     1       0.0488   \n",
       "2          66         0.529   0.496    7    -9.007     1       0.0290   \n",
       "3          78         0.551   0.913    0    -4.063     0       0.0466   \n",
       "4          65         0.614   0.928    8    -4.806     0       0.0516   \n",
       "\n",
       "   acousticness  instrumentalness  liveness  valence    tempo         genre  \n",
       "0        0.3000          0.000018    0.3550    0.894   95.053           pop  \n",
       "1        0.0103          0.000000    0.6120    0.684  148.726     rock, pop  \n",
       "2        0.1730          0.000000    0.2510    0.278  136.859  pop, country  \n",
       "3        0.0263          0.000014    0.3470    0.544  119.992   rock, metal  \n",
       "4        0.0408          0.001040    0.0845    0.879  172.656           pop  "
      ]
     },
     "execution_count": 2,
     "metadata": {},
     "output_type": "execute_result"
    }
   ],
   "source": [
    "# Importing the dataset and printing first 5 rows\n",
    "\n",
    "df = pd.read_csv('zippedData/songs_normalize.csv')\n",
    "df.head()"
   ]
  },
  {
   "cell_type": "code",
   "execution_count": 3,
   "metadata": {},
   "outputs": [
    {
     "data": {
      "text/plain": [
       "(2000, 18)"
      ]
     },
     "execution_count": 3,
     "metadata": {},
     "output_type": "execute_result"
    }
   ],
   "source": [
    "# Viewing the shape of the dataframe\n",
    "\n",
    "df.shape"
   ]
  },
  {
   "cell_type": "markdown",
   "metadata": {},
   "source": [
    "With 2000 songs each consisting of 18 features, this dataset has adequate complexity for this project.  "
   ]
  },
  {
   "cell_type": "code",
   "execution_count": 4,
   "metadata": {},
   "outputs": [
    {
     "data": {
      "text/html": [
       "<div>\n",
       "<style scoped>\n",
       "    .dataframe tbody tr th:only-of-type {\n",
       "        vertical-align: middle;\n",
       "    }\n",
       "\n",
       "    .dataframe tbody tr th {\n",
       "        vertical-align: top;\n",
       "    }\n",
       "\n",
       "    .dataframe thead th {\n",
       "        text-align: right;\n",
       "    }\n",
       "</style>\n",
       "<table border=\"1\" class=\"dataframe\">\n",
       "  <thead>\n",
       "    <tr style=\"text-align: right;\">\n",
       "      <th></th>\n",
       "      <th>duration_ms</th>\n",
       "      <th>year</th>\n",
       "      <th>popularity</th>\n",
       "      <th>danceability</th>\n",
       "      <th>energy</th>\n",
       "      <th>key</th>\n",
       "      <th>loudness</th>\n",
       "      <th>mode</th>\n",
       "      <th>speechiness</th>\n",
       "      <th>acousticness</th>\n",
       "      <th>instrumentalness</th>\n",
       "      <th>liveness</th>\n",
       "      <th>valence</th>\n",
       "      <th>tempo</th>\n",
       "    </tr>\n",
       "  </thead>\n",
       "  <tbody>\n",
       "    <tr>\n",
       "      <th>count</th>\n",
       "      <td>2000.000000</td>\n",
       "      <td>2000.00000</td>\n",
       "      <td>2000.000000</td>\n",
       "      <td>2000.000000</td>\n",
       "      <td>2000.000000</td>\n",
       "      <td>2000.000000</td>\n",
       "      <td>2000.000000</td>\n",
       "      <td>2000.000000</td>\n",
       "      <td>2000.000000</td>\n",
       "      <td>2000.000000</td>\n",
       "      <td>2000.000000</td>\n",
       "      <td>2000.000000</td>\n",
       "      <td>2000.000000</td>\n",
       "      <td>2000.000000</td>\n",
       "    </tr>\n",
       "    <tr>\n",
       "      <th>mean</th>\n",
       "      <td>228748.124500</td>\n",
       "      <td>2009.49400</td>\n",
       "      <td>59.872500</td>\n",
       "      <td>0.667438</td>\n",
       "      <td>0.720366</td>\n",
       "      <td>5.378000</td>\n",
       "      <td>-5.512434</td>\n",
       "      <td>0.553500</td>\n",
       "      <td>0.103568</td>\n",
       "      <td>0.128955</td>\n",
       "      <td>0.015226</td>\n",
       "      <td>0.181216</td>\n",
       "      <td>0.551690</td>\n",
       "      <td>120.122558</td>\n",
       "    </tr>\n",
       "    <tr>\n",
       "      <th>std</th>\n",
       "      <td>39136.569008</td>\n",
       "      <td>5.85996</td>\n",
       "      <td>21.335577</td>\n",
       "      <td>0.140416</td>\n",
       "      <td>0.152745</td>\n",
       "      <td>3.615059</td>\n",
       "      <td>1.933482</td>\n",
       "      <td>0.497254</td>\n",
       "      <td>0.096159</td>\n",
       "      <td>0.173346</td>\n",
       "      <td>0.087771</td>\n",
       "      <td>0.140669</td>\n",
       "      <td>0.220864</td>\n",
       "      <td>26.967112</td>\n",
       "    </tr>\n",
       "    <tr>\n",
       "      <th>min</th>\n",
       "      <td>113000.000000</td>\n",
       "      <td>1998.00000</td>\n",
       "      <td>0.000000</td>\n",
       "      <td>0.129000</td>\n",
       "      <td>0.054900</td>\n",
       "      <td>0.000000</td>\n",
       "      <td>-20.514000</td>\n",
       "      <td>0.000000</td>\n",
       "      <td>0.023200</td>\n",
       "      <td>0.000019</td>\n",
       "      <td>0.000000</td>\n",
       "      <td>0.021500</td>\n",
       "      <td>0.038100</td>\n",
       "      <td>60.019000</td>\n",
       "    </tr>\n",
       "    <tr>\n",
       "      <th>25%</th>\n",
       "      <td>203580.000000</td>\n",
       "      <td>2004.00000</td>\n",
       "      <td>56.000000</td>\n",
       "      <td>0.581000</td>\n",
       "      <td>0.622000</td>\n",
       "      <td>2.000000</td>\n",
       "      <td>-6.490250</td>\n",
       "      <td>0.000000</td>\n",
       "      <td>0.039600</td>\n",
       "      <td>0.014000</td>\n",
       "      <td>0.000000</td>\n",
       "      <td>0.088100</td>\n",
       "      <td>0.386750</td>\n",
       "      <td>98.985750</td>\n",
       "    </tr>\n",
       "    <tr>\n",
       "      <th>50%</th>\n",
       "      <td>223279.500000</td>\n",
       "      <td>2010.00000</td>\n",
       "      <td>65.500000</td>\n",
       "      <td>0.676000</td>\n",
       "      <td>0.736000</td>\n",
       "      <td>6.000000</td>\n",
       "      <td>-5.285000</td>\n",
       "      <td>1.000000</td>\n",
       "      <td>0.059850</td>\n",
       "      <td>0.055700</td>\n",
       "      <td>0.000000</td>\n",
       "      <td>0.124000</td>\n",
       "      <td>0.557500</td>\n",
       "      <td>120.021500</td>\n",
       "    </tr>\n",
       "    <tr>\n",
       "      <th>75%</th>\n",
       "      <td>248133.000000</td>\n",
       "      <td>2015.00000</td>\n",
       "      <td>73.000000</td>\n",
       "      <td>0.764000</td>\n",
       "      <td>0.839000</td>\n",
       "      <td>8.000000</td>\n",
       "      <td>-4.167750</td>\n",
       "      <td>1.000000</td>\n",
       "      <td>0.129000</td>\n",
       "      <td>0.176250</td>\n",
       "      <td>0.000068</td>\n",
       "      <td>0.241000</td>\n",
       "      <td>0.730000</td>\n",
       "      <td>134.265500</td>\n",
       "    </tr>\n",
       "    <tr>\n",
       "      <th>max</th>\n",
       "      <td>484146.000000</td>\n",
       "      <td>2020.00000</td>\n",
       "      <td>89.000000</td>\n",
       "      <td>0.975000</td>\n",
       "      <td>0.999000</td>\n",
       "      <td>11.000000</td>\n",
       "      <td>-0.276000</td>\n",
       "      <td>1.000000</td>\n",
       "      <td>0.576000</td>\n",
       "      <td>0.976000</td>\n",
       "      <td>0.985000</td>\n",
       "      <td>0.853000</td>\n",
       "      <td>0.973000</td>\n",
       "      <td>210.851000</td>\n",
       "    </tr>\n",
       "  </tbody>\n",
       "</table>\n",
       "</div>"
      ],
      "text/plain": [
       "         duration_ms        year   popularity  danceability       energy  \\\n",
       "count    2000.000000  2000.00000  2000.000000   2000.000000  2000.000000   \n",
       "mean   228748.124500  2009.49400    59.872500      0.667438     0.720366   \n",
       "std     39136.569008     5.85996    21.335577      0.140416     0.152745   \n",
       "min    113000.000000  1998.00000     0.000000      0.129000     0.054900   \n",
       "25%    203580.000000  2004.00000    56.000000      0.581000     0.622000   \n",
       "50%    223279.500000  2010.00000    65.500000      0.676000     0.736000   \n",
       "75%    248133.000000  2015.00000    73.000000      0.764000     0.839000   \n",
       "max    484146.000000  2020.00000    89.000000      0.975000     0.999000   \n",
       "\n",
       "               key     loudness         mode  speechiness  acousticness  \\\n",
       "count  2000.000000  2000.000000  2000.000000  2000.000000   2000.000000   \n",
       "mean      5.378000    -5.512434     0.553500     0.103568      0.128955   \n",
       "std       3.615059     1.933482     0.497254     0.096159      0.173346   \n",
       "min       0.000000   -20.514000     0.000000     0.023200      0.000019   \n",
       "25%       2.000000    -6.490250     0.000000     0.039600      0.014000   \n",
       "50%       6.000000    -5.285000     1.000000     0.059850      0.055700   \n",
       "75%       8.000000    -4.167750     1.000000     0.129000      0.176250   \n",
       "max      11.000000    -0.276000     1.000000     0.576000      0.976000   \n",
       "\n",
       "       instrumentalness     liveness      valence        tempo  \n",
       "count       2000.000000  2000.000000  2000.000000  2000.000000  \n",
       "mean           0.015226     0.181216     0.551690   120.122558  \n",
       "std            0.087771     0.140669     0.220864    26.967112  \n",
       "min            0.000000     0.021500     0.038100    60.019000  \n",
       "25%            0.000000     0.088100     0.386750    98.985750  \n",
       "50%            0.000000     0.124000     0.557500   120.021500  \n",
       "75%            0.000068     0.241000     0.730000   134.265500  \n",
       "max            0.985000     0.853000     0.973000   210.851000  "
      ]
     },
     "execution_count": 4,
     "metadata": {},
     "output_type": "execute_result"
    }
   ],
   "source": [
    "# Interpreting descriptive statistics of the dataset\n",
    "\n",
    "df.describe()"
   ]
  },
  {
   "cell_type": "markdown",
   "metadata": {},
   "source": [
    "The majority of our features consist of values between 0 and 1, while others such as `duration_ms`, `key`, and `tempo` are on a different scale. "
   ]
  },
  {
   "cell_type": "code",
   "execution_count": 5,
   "metadata": {},
   "outputs": [
    {
     "data": {
      "text/plain": [
       "artist               object\n",
       "song                 object\n",
       "duration_ms           int64\n",
       "explicit               bool\n",
       "year                  int64\n",
       "popularity            int64\n",
       "danceability        float64\n",
       "energy              float64\n",
       "key                   int64\n",
       "loudness            float64\n",
       "mode                  int64\n",
       "speechiness         float64\n",
       "acousticness        float64\n",
       "instrumentalness    float64\n",
       "liveness            float64\n",
       "valence             float64\n",
       "tempo               float64\n",
       "genre                object\n",
       "dtype: object"
      ]
     },
     "execution_count": 5,
     "metadata": {},
     "output_type": "execute_result"
    }
   ],
   "source": [
    "# Investigating d_types\n",
    "\n",
    "df.dtypes"
   ]
  },
  {
   "cell_type": "markdown",
   "metadata": {},
   "source": [
    "We have several different data types in our dataset. Because we are building a classification model and not a regression, we will divide popularity into two classes (A and B). Class A will consist of songs whose popularity is in the 80th percentile, Class B will consist of songs whose popularity is below the 80th percentile. \n",
    "\n",
    "Additionally, when you consider the business problem at hand, `artist` and `song` will not be helpful features when it comes to writing new music so those object dtype columns will be dropped from the dataset. Genre is the only other object dtype remaining which we will create dummy variables for. \n",
    "\n",
    "Before we can divide the `popularity` column based according to percentiles and assign classes, we want to first check to make sure there are no null or missing values."
   ]
  },
  {
   "cell_type": "code",
   "execution_count": 6,
   "metadata": {},
   "outputs": [
    {
     "data": {
      "text/plain": [
       "0     126\n",
       "69     76\n",
       "68     75\n",
       "73     69\n",
       "74     69\n",
       "     ... \n",
       "16      1\n",
       "17      1\n",
       "18      1\n",
       "24      1\n",
       "89      1\n",
       "Name: popularity, Length: 76, dtype: int64"
      ]
     },
     "execution_count": 6,
     "metadata": {},
     "output_type": "execute_result"
    }
   ],
   "source": [
    "# Popularity value counts\n",
    "\n",
    "df['popularity'].value_counts()"
   ]
  },
  {
   "cell_type": "markdown",
   "metadata": {},
   "source": [
    "It appears we have 126 values of 0, these values will have a negative effect on our model's ability to predict song popularity based on certain audio statistics. Assuming these were data entry errors, we will drop these songs from the dataframe."
   ]
  },
  {
   "cell_type": "code",
   "execution_count": 7,
   "metadata": {},
   "outputs": [],
   "source": [
    "# df now equals dataframe where song popularity value does not equal 0\n",
    "\n",
    "df = df[df['popularity'] != 0]"
   ]
  },
  {
   "cell_type": "markdown",
   "metadata": {},
   "source": [
    "As was discussed above, we could apply a logistic regression model to this dataset to predict song popularity given our target variable is continuous. However, for this project, we wanted to develop a classification model that helps to accomplish the same goal. In order to do so we will split our continuous target variable into two classes based on percentiles of song popularity values. We will call this new target feature `popularity_rank`."
   ]
  },
  {
   "cell_type": "code",
   "execution_count": 8,
   "metadata": {},
   "outputs": [],
   "source": [
    "# Creating a popularity rank column based on popularity quantiles\n",
    "\n",
    "df['popularity_rank'] = pd.qcut(df['popularity'], 10, labels=False)\n",
    "\n",
    "df['popularity_rank'] = df['popularity_rank'].replace([8,9],'A')\n",
    "df['popularity_rank'] = df['popularity_rank'].replace([0,1,2,3,4,5,6,7],'B')\n"
   ]
  },
  {
   "cell_type": "code",
   "execution_count": 9,
   "metadata": {
    "scrolled": true
   },
   "outputs": [
    {
     "data": {
      "text/html": [
       "<div>\n",
       "<style scoped>\n",
       "    .dataframe tbody tr th:only-of-type {\n",
       "        vertical-align: middle;\n",
       "    }\n",
       "\n",
       "    .dataframe tbody tr th {\n",
       "        vertical-align: top;\n",
       "    }\n",
       "\n",
       "    .dataframe thead th {\n",
       "        text-align: right;\n",
       "    }\n",
       "</style>\n",
       "<table border=\"1\" class=\"dataframe\">\n",
       "  <thead>\n",
       "    <tr style=\"text-align: right;\">\n",
       "      <th></th>\n",
       "      <th>artist</th>\n",
       "      <th>song</th>\n",
       "      <th>duration_ms</th>\n",
       "      <th>explicit</th>\n",
       "      <th>year</th>\n",
       "      <th>popularity</th>\n",
       "      <th>danceability</th>\n",
       "      <th>energy</th>\n",
       "      <th>key</th>\n",
       "      <th>loudness</th>\n",
       "      <th>mode</th>\n",
       "      <th>speechiness</th>\n",
       "      <th>acousticness</th>\n",
       "      <th>instrumentalness</th>\n",
       "      <th>liveness</th>\n",
       "      <th>valence</th>\n",
       "      <th>tempo</th>\n",
       "      <th>genre</th>\n",
       "      <th>popularity_rank</th>\n",
       "    </tr>\n",
       "  </thead>\n",
       "  <tbody>\n",
       "    <tr>\n",
       "      <th>0</th>\n",
       "      <td>Britney Spears</td>\n",
       "      <td>Oops!...I Did It Again</td>\n",
       "      <td>211160</td>\n",
       "      <td>False</td>\n",
       "      <td>2000</td>\n",
       "      <td>77</td>\n",
       "      <td>0.751</td>\n",
       "      <td>0.834</td>\n",
       "      <td>1</td>\n",
       "      <td>-5.444</td>\n",
       "      <td>0</td>\n",
       "      <td>0.0437</td>\n",
       "      <td>0.3000</td>\n",
       "      <td>0.000018</td>\n",
       "      <td>0.3550</td>\n",
       "      <td>0.894</td>\n",
       "      <td>95.053</td>\n",
       "      <td>pop</td>\n",
       "      <td>A</td>\n",
       "    </tr>\n",
       "    <tr>\n",
       "      <th>1</th>\n",
       "      <td>blink-182</td>\n",
       "      <td>All The Small Things</td>\n",
       "      <td>167066</td>\n",
       "      <td>False</td>\n",
       "      <td>1999</td>\n",
       "      <td>79</td>\n",
       "      <td>0.434</td>\n",
       "      <td>0.897</td>\n",
       "      <td>0</td>\n",
       "      <td>-4.918</td>\n",
       "      <td>1</td>\n",
       "      <td>0.0488</td>\n",
       "      <td>0.0103</td>\n",
       "      <td>0.000000</td>\n",
       "      <td>0.6120</td>\n",
       "      <td>0.684</td>\n",
       "      <td>148.726</td>\n",
       "      <td>rock, pop</td>\n",
       "      <td>A</td>\n",
       "    </tr>\n",
       "    <tr>\n",
       "      <th>2</th>\n",
       "      <td>Faith Hill</td>\n",
       "      <td>Breathe</td>\n",
       "      <td>250546</td>\n",
       "      <td>False</td>\n",
       "      <td>1999</td>\n",
       "      <td>66</td>\n",
       "      <td>0.529</td>\n",
       "      <td>0.496</td>\n",
       "      <td>7</td>\n",
       "      <td>-9.007</td>\n",
       "      <td>1</td>\n",
       "      <td>0.0290</td>\n",
       "      <td>0.1730</td>\n",
       "      <td>0.000000</td>\n",
       "      <td>0.2510</td>\n",
       "      <td>0.278</td>\n",
       "      <td>136.859</td>\n",
       "      <td>pop, country</td>\n",
       "      <td>B</td>\n",
       "    </tr>\n",
       "    <tr>\n",
       "      <th>3</th>\n",
       "      <td>Bon Jovi</td>\n",
       "      <td>It's My Life</td>\n",
       "      <td>224493</td>\n",
       "      <td>False</td>\n",
       "      <td>2000</td>\n",
       "      <td>78</td>\n",
       "      <td>0.551</td>\n",
       "      <td>0.913</td>\n",
       "      <td>0</td>\n",
       "      <td>-4.063</td>\n",
       "      <td>0</td>\n",
       "      <td>0.0466</td>\n",
       "      <td>0.0263</td>\n",
       "      <td>0.000014</td>\n",
       "      <td>0.3470</td>\n",
       "      <td>0.544</td>\n",
       "      <td>119.992</td>\n",
       "      <td>rock, metal</td>\n",
       "      <td>A</td>\n",
       "    </tr>\n",
       "    <tr>\n",
       "      <th>4</th>\n",
       "      <td>*NSYNC</td>\n",
       "      <td>Bye Bye Bye</td>\n",
       "      <td>200560</td>\n",
       "      <td>False</td>\n",
       "      <td>2000</td>\n",
       "      <td>65</td>\n",
       "      <td>0.614</td>\n",
       "      <td>0.928</td>\n",
       "      <td>8</td>\n",
       "      <td>-4.806</td>\n",
       "      <td>0</td>\n",
       "      <td>0.0516</td>\n",
       "      <td>0.0408</td>\n",
       "      <td>0.001040</td>\n",
       "      <td>0.0845</td>\n",
       "      <td>0.879</td>\n",
       "      <td>172.656</td>\n",
       "      <td>pop</td>\n",
       "      <td>B</td>\n",
       "    </tr>\n",
       "  </tbody>\n",
       "</table>\n",
       "</div>"
      ],
      "text/plain": [
       "           artist                    song  duration_ms  explicit  year  \\\n",
       "0  Britney Spears  Oops!...I Did It Again       211160     False  2000   \n",
       "1       blink-182    All The Small Things       167066     False  1999   \n",
       "2      Faith Hill                 Breathe       250546     False  1999   \n",
       "3        Bon Jovi            It's My Life       224493     False  2000   \n",
       "4          *NSYNC             Bye Bye Bye       200560     False  2000   \n",
       "\n",
       "   popularity  danceability  energy  key  loudness  mode  speechiness  \\\n",
       "0          77         0.751   0.834    1    -5.444     0       0.0437   \n",
       "1          79         0.434   0.897    0    -4.918     1       0.0488   \n",
       "2          66         0.529   0.496    7    -9.007     1       0.0290   \n",
       "3          78         0.551   0.913    0    -4.063     0       0.0466   \n",
       "4          65         0.614   0.928    8    -4.806     0       0.0516   \n",
       "\n",
       "   acousticness  instrumentalness  liveness  valence    tempo         genre  \\\n",
       "0        0.3000          0.000018    0.3550    0.894   95.053           pop   \n",
       "1        0.0103          0.000000    0.6120    0.684  148.726     rock, pop   \n",
       "2        0.1730          0.000000    0.2510    0.278  136.859  pop, country   \n",
       "3        0.0263          0.000014    0.3470    0.544  119.992   rock, metal   \n",
       "4        0.0408          0.001040    0.0845    0.879  172.656           pop   \n",
       "\n",
       "  popularity_rank  \n",
       "0               A  \n",
       "1               A  \n",
       "2               B  \n",
       "3               A  \n",
       "4               B  "
      ]
     },
     "execution_count": 9,
     "metadata": {},
     "output_type": "execute_result"
    }
   ],
   "source": [
    "# Viewing dataframe with new popularity_rank column\n",
    "df.head()"
   ]
  },
  {
   "cell_type": "code",
   "execution_count": 10,
   "metadata": {},
   "outputs": [
    {
     "data": {
      "text/html": [
       "<div>\n",
       "<style scoped>\n",
       "    .dataframe tbody tr th:only-of-type {\n",
       "        vertical-align: middle;\n",
       "    }\n",
       "\n",
       "    .dataframe tbody tr th {\n",
       "        vertical-align: top;\n",
       "    }\n",
       "\n",
       "    .dataframe thead th {\n",
       "        text-align: right;\n",
       "    }\n",
       "</style>\n",
       "<table border=\"1\" class=\"dataframe\">\n",
       "  <thead>\n",
       "    <tr style=\"text-align: right;\">\n",
       "      <th></th>\n",
       "      <th>artist</th>\n",
       "      <th>song</th>\n",
       "      <th>duration_ms</th>\n",
       "      <th>explicit</th>\n",
       "      <th>year</th>\n",
       "      <th>popularity</th>\n",
       "      <th>danceability</th>\n",
       "      <th>energy</th>\n",
       "      <th>key</th>\n",
       "      <th>loudness</th>\n",
       "      <th>mode</th>\n",
       "      <th>speechiness</th>\n",
       "      <th>acousticness</th>\n",
       "      <th>instrumentalness</th>\n",
       "      <th>liveness</th>\n",
       "      <th>valence</th>\n",
       "      <th>tempo</th>\n",
       "      <th>genre</th>\n",
       "      <th>popularity_rank</th>\n",
       "    </tr>\n",
       "  </thead>\n",
       "  <tbody>\n",
       "    <tr>\n",
       "      <th>0</th>\n",
       "      <td>Britney Spears</td>\n",
       "      <td>Oops!...I Did It Again</td>\n",
       "      <td>211160</td>\n",
       "      <td>0</td>\n",
       "      <td>2000</td>\n",
       "      <td>77</td>\n",
       "      <td>0.751</td>\n",
       "      <td>0.834</td>\n",
       "      <td>1</td>\n",
       "      <td>-5.444</td>\n",
       "      <td>0</td>\n",
       "      <td>0.0437</td>\n",
       "      <td>0.3000</td>\n",
       "      <td>0.000018</td>\n",
       "      <td>0.3550</td>\n",
       "      <td>0.894</td>\n",
       "      <td>95.053</td>\n",
       "      <td>pop</td>\n",
       "      <td>A</td>\n",
       "    </tr>\n",
       "    <tr>\n",
       "      <th>1</th>\n",
       "      <td>blink-182</td>\n",
       "      <td>All The Small Things</td>\n",
       "      <td>167066</td>\n",
       "      <td>0</td>\n",
       "      <td>1999</td>\n",
       "      <td>79</td>\n",
       "      <td>0.434</td>\n",
       "      <td>0.897</td>\n",
       "      <td>0</td>\n",
       "      <td>-4.918</td>\n",
       "      <td>1</td>\n",
       "      <td>0.0488</td>\n",
       "      <td>0.0103</td>\n",
       "      <td>0.000000</td>\n",
       "      <td>0.6120</td>\n",
       "      <td>0.684</td>\n",
       "      <td>148.726</td>\n",
       "      <td>rock, pop</td>\n",
       "      <td>A</td>\n",
       "    </tr>\n",
       "    <tr>\n",
       "      <th>2</th>\n",
       "      <td>Faith Hill</td>\n",
       "      <td>Breathe</td>\n",
       "      <td>250546</td>\n",
       "      <td>0</td>\n",
       "      <td>1999</td>\n",
       "      <td>66</td>\n",
       "      <td>0.529</td>\n",
       "      <td>0.496</td>\n",
       "      <td>7</td>\n",
       "      <td>-9.007</td>\n",
       "      <td>1</td>\n",
       "      <td>0.0290</td>\n",
       "      <td>0.1730</td>\n",
       "      <td>0.000000</td>\n",
       "      <td>0.2510</td>\n",
       "      <td>0.278</td>\n",
       "      <td>136.859</td>\n",
       "      <td>pop, country</td>\n",
       "      <td>B</td>\n",
       "    </tr>\n",
       "    <tr>\n",
       "      <th>3</th>\n",
       "      <td>Bon Jovi</td>\n",
       "      <td>It's My Life</td>\n",
       "      <td>224493</td>\n",
       "      <td>0</td>\n",
       "      <td>2000</td>\n",
       "      <td>78</td>\n",
       "      <td>0.551</td>\n",
       "      <td>0.913</td>\n",
       "      <td>0</td>\n",
       "      <td>-4.063</td>\n",
       "      <td>0</td>\n",
       "      <td>0.0466</td>\n",
       "      <td>0.0263</td>\n",
       "      <td>0.000014</td>\n",
       "      <td>0.3470</td>\n",
       "      <td>0.544</td>\n",
       "      <td>119.992</td>\n",
       "      <td>rock, metal</td>\n",
       "      <td>A</td>\n",
       "    </tr>\n",
       "    <tr>\n",
       "      <th>4</th>\n",
       "      <td>*NSYNC</td>\n",
       "      <td>Bye Bye Bye</td>\n",
       "      <td>200560</td>\n",
       "      <td>0</td>\n",
       "      <td>2000</td>\n",
       "      <td>65</td>\n",
       "      <td>0.614</td>\n",
       "      <td>0.928</td>\n",
       "      <td>8</td>\n",
       "      <td>-4.806</td>\n",
       "      <td>0</td>\n",
       "      <td>0.0516</td>\n",
       "      <td>0.0408</td>\n",
       "      <td>0.001040</td>\n",
       "      <td>0.0845</td>\n",
       "      <td>0.879</td>\n",
       "      <td>172.656</td>\n",
       "      <td>pop</td>\n",
       "      <td>B</td>\n",
       "    </tr>\n",
       "  </tbody>\n",
       "</table>\n",
       "</div>"
      ],
      "text/plain": [
       "           artist                    song  duration_ms  explicit  year  \\\n",
       "0  Britney Spears  Oops!...I Did It Again       211160         0  2000   \n",
       "1       blink-182    All The Small Things       167066         0  1999   \n",
       "2      Faith Hill                 Breathe       250546         0  1999   \n",
       "3        Bon Jovi            It's My Life       224493         0  2000   \n",
       "4          *NSYNC             Bye Bye Bye       200560         0  2000   \n",
       "\n",
       "   popularity  danceability  energy  key  loudness  mode  speechiness  \\\n",
       "0          77         0.751   0.834    1    -5.444     0       0.0437   \n",
       "1          79         0.434   0.897    0    -4.918     1       0.0488   \n",
       "2          66         0.529   0.496    7    -9.007     1       0.0290   \n",
       "3          78         0.551   0.913    0    -4.063     0       0.0466   \n",
       "4          65         0.614   0.928    8    -4.806     0       0.0516   \n",
       "\n",
       "   acousticness  instrumentalness  liveness  valence    tempo         genre  \\\n",
       "0        0.3000          0.000018    0.3550    0.894   95.053           pop   \n",
       "1        0.0103          0.000000    0.6120    0.684  148.726     rock, pop   \n",
       "2        0.1730          0.000000    0.2510    0.278  136.859  pop, country   \n",
       "3        0.0263          0.000014    0.3470    0.544  119.992   rock, metal   \n",
       "4        0.0408          0.001040    0.0845    0.879  172.656           pop   \n",
       "\n",
       "  popularity_rank  \n",
       "0               A  \n",
       "1               A  \n",
       "2               B  \n",
       "3               A  \n",
       "4               B  "
      ]
     },
     "execution_count": 10,
     "metadata": {},
     "output_type": "execute_result"
    }
   ],
   "source": [
    "# Converting explicit boolean values to binary integers\n",
    "\n",
    "df['explicit'].replace({True: 1, False:0}, inplace=True)\n",
    "df.head()"
   ]
  },
  {
   "cell_type": "markdown",
   "metadata": {},
   "source": [
    "When you consider the business problem at hand `artist`, `song`, and `year` should not be contributing features when it comes to a new artist writing music, they are features that are added after the creative process is complete. Therefore, those columns will be dropped from the data set."
   ]
  },
  {
   "cell_type": "code",
   "execution_count": 11,
   "metadata": {},
   "outputs": [],
   "source": [
    "# Droping artist, song, and year from dataset\n",
    "\n",
    "df = df.drop(['artist', 'song', 'year', 'popularity'], axis=1)"
   ]
  },
  {
   "cell_type": "code",
   "execution_count": 12,
   "metadata": {},
   "outputs": [
    {
     "data": {
      "text/html": [
       "<div>\n",
       "<style scoped>\n",
       "    .dataframe tbody tr th:only-of-type {\n",
       "        vertical-align: middle;\n",
       "    }\n",
       "\n",
       "    .dataframe tbody tr th {\n",
       "        vertical-align: top;\n",
       "    }\n",
       "\n",
       "    .dataframe thead th {\n",
       "        text-align: right;\n",
       "    }\n",
       "</style>\n",
       "<table border=\"1\" class=\"dataframe\">\n",
       "  <thead>\n",
       "    <tr style=\"text-align: right;\">\n",
       "      <th></th>\n",
       "      <th>duration_ms</th>\n",
       "      <th>explicit</th>\n",
       "      <th>danceability</th>\n",
       "      <th>energy</th>\n",
       "      <th>key</th>\n",
       "      <th>loudness</th>\n",
       "      <th>mode</th>\n",
       "      <th>speechiness</th>\n",
       "      <th>acousticness</th>\n",
       "      <th>instrumentalness</th>\n",
       "      <th>liveness</th>\n",
       "      <th>valence</th>\n",
       "      <th>tempo</th>\n",
       "      <th>genre</th>\n",
       "      <th>popularity_rank</th>\n",
       "    </tr>\n",
       "  </thead>\n",
       "  <tbody>\n",
       "    <tr>\n",
       "      <th>0</th>\n",
       "      <td>211160</td>\n",
       "      <td>0</td>\n",
       "      <td>0.751</td>\n",
       "      <td>0.834</td>\n",
       "      <td>1</td>\n",
       "      <td>-5.444</td>\n",
       "      <td>0</td>\n",
       "      <td>0.0437</td>\n",
       "      <td>0.3000</td>\n",
       "      <td>0.000018</td>\n",
       "      <td>0.3550</td>\n",
       "      <td>0.894</td>\n",
       "      <td>95.053</td>\n",
       "      <td>pop</td>\n",
       "      <td>A</td>\n",
       "    </tr>\n",
       "    <tr>\n",
       "      <th>1</th>\n",
       "      <td>167066</td>\n",
       "      <td>0</td>\n",
       "      <td>0.434</td>\n",
       "      <td>0.897</td>\n",
       "      <td>0</td>\n",
       "      <td>-4.918</td>\n",
       "      <td>1</td>\n",
       "      <td>0.0488</td>\n",
       "      <td>0.0103</td>\n",
       "      <td>0.000000</td>\n",
       "      <td>0.6120</td>\n",
       "      <td>0.684</td>\n",
       "      <td>148.726</td>\n",
       "      <td>rock, pop</td>\n",
       "      <td>A</td>\n",
       "    </tr>\n",
       "    <tr>\n",
       "      <th>2</th>\n",
       "      <td>250546</td>\n",
       "      <td>0</td>\n",
       "      <td>0.529</td>\n",
       "      <td>0.496</td>\n",
       "      <td>7</td>\n",
       "      <td>-9.007</td>\n",
       "      <td>1</td>\n",
       "      <td>0.0290</td>\n",
       "      <td>0.1730</td>\n",
       "      <td>0.000000</td>\n",
       "      <td>0.2510</td>\n",
       "      <td>0.278</td>\n",
       "      <td>136.859</td>\n",
       "      <td>pop, country</td>\n",
       "      <td>B</td>\n",
       "    </tr>\n",
       "    <tr>\n",
       "      <th>3</th>\n",
       "      <td>224493</td>\n",
       "      <td>0</td>\n",
       "      <td>0.551</td>\n",
       "      <td>0.913</td>\n",
       "      <td>0</td>\n",
       "      <td>-4.063</td>\n",
       "      <td>0</td>\n",
       "      <td>0.0466</td>\n",
       "      <td>0.0263</td>\n",
       "      <td>0.000014</td>\n",
       "      <td>0.3470</td>\n",
       "      <td>0.544</td>\n",
       "      <td>119.992</td>\n",
       "      <td>rock, metal</td>\n",
       "      <td>A</td>\n",
       "    </tr>\n",
       "    <tr>\n",
       "      <th>4</th>\n",
       "      <td>200560</td>\n",
       "      <td>0</td>\n",
       "      <td>0.614</td>\n",
       "      <td>0.928</td>\n",
       "      <td>8</td>\n",
       "      <td>-4.806</td>\n",
       "      <td>0</td>\n",
       "      <td>0.0516</td>\n",
       "      <td>0.0408</td>\n",
       "      <td>0.001040</td>\n",
       "      <td>0.0845</td>\n",
       "      <td>0.879</td>\n",
       "      <td>172.656</td>\n",
       "      <td>pop</td>\n",
       "      <td>B</td>\n",
       "    </tr>\n",
       "  </tbody>\n",
       "</table>\n",
       "</div>"
      ],
      "text/plain": [
       "   duration_ms  explicit  danceability  energy  key  loudness  mode  \\\n",
       "0       211160         0         0.751   0.834    1    -5.444     0   \n",
       "1       167066         0         0.434   0.897    0    -4.918     1   \n",
       "2       250546         0         0.529   0.496    7    -9.007     1   \n",
       "3       224493         0         0.551   0.913    0    -4.063     0   \n",
       "4       200560         0         0.614   0.928    8    -4.806     0   \n",
       "\n",
       "   speechiness  acousticness  instrumentalness  liveness  valence    tempo  \\\n",
       "0       0.0437        0.3000          0.000018    0.3550    0.894   95.053   \n",
       "1       0.0488        0.0103          0.000000    0.6120    0.684  148.726   \n",
       "2       0.0290        0.1730          0.000000    0.2510    0.278  136.859   \n",
       "3       0.0466        0.0263          0.000014    0.3470    0.544  119.992   \n",
       "4       0.0516        0.0408          0.001040    0.0845    0.879  172.656   \n",
       "\n",
       "          genre popularity_rank  \n",
       "0           pop               A  \n",
       "1     rock, pop               A  \n",
       "2  pop, country               B  \n",
       "3   rock, metal               A  \n",
       "4           pop               B  "
      ]
     },
     "execution_count": 12,
     "metadata": {},
     "output_type": "execute_result"
    }
   ],
   "source": [
    "# Viewing the dataframe\n",
    "\n",
    "df.head()"
   ]
  },
  {
   "cell_type": "markdown",
   "metadata": {},
   "source": [
    "Genre is the only other object data type remaining, we will create dummy variables for that feature for use in our models. Before we do that we will need to clean the genre column so we do not have overlapping or redundant variables."
   ]
  },
  {
   "cell_type": "code",
   "execution_count": 13,
   "metadata": {},
   "outputs": [],
   "source": [
    "# Removing punctuation and using .explode() to address genre overlap\n",
    "\n",
    "df['genre'] = df['genre'].str.split(',') \n",
    "df = df.explode('genre')"
   ]
  },
  {
   "cell_type": "code",
   "execution_count": 14,
   "metadata": {},
   "outputs": [
    {
     "data": {
      "text/plain": [
       "pop                  856\n",
       "hip hop              742\n",
       " pop                 669\n",
       " R&B                 417\n",
       " Dance/Electronic    307\n",
       "rock                 158\n",
       " rock                 67\n",
       " metal                57\n",
       " latin                46\n",
       "Dance/Electronic      38\n",
       "set()                 22\n",
       " Folk/Acoustic        15\n",
       "latin                 14\n",
       "R&B                   13\n",
       " country              10\n",
       "World/Traditional      9\n",
       "metal                  9\n",
       "country                9\n",
       " easy listening        6\n",
       " blues                 4\n",
       "Folk/Acoustic          3\n",
       " jazz                  2\n",
       " hip hop               2\n",
       " classical             1\n",
       "easy listening         1\n",
       "Name: genre, dtype: int64"
      ]
     },
     "execution_count": 14,
     "metadata": {},
     "output_type": "execute_result"
    }
   ],
   "source": [
    "# Viewing genre column value counts\n",
    "\n",
    "df['genre'].value_counts()"
   ]
  },
  {
   "cell_type": "markdown",
   "metadata": {},
   "source": [
    "Looking at the value counts above it looks like there is unwanted spacing that is contributing to there being more genres than are actually present. We will want to remove the spaces so that we have the appropriate number of genres represented in the dataset."
   ]
  },
  {
   "cell_type": "code",
   "execution_count": 15,
   "metadata": {},
   "outputs": [],
   "source": [
    "# Removing unwanted spaces from genre column\n",
    "\n",
    "df['genre'] = df['genre'].str.replace(\" \", \"\")"
   ]
  },
  {
   "cell_type": "code",
   "execution_count": 16,
   "metadata": {},
   "outputs": [
    {
     "data": {
      "text/plain": [
       "pop                  1525\n",
       "hiphop                744\n",
       "R&B                   430\n",
       "Dance/Electronic      345\n",
       "rock                  225\n",
       "metal                  66\n",
       "latin                  60\n",
       "set()                  22\n",
       "country                19\n",
       "Folk/Acoustic          18\n",
       "World/Traditional       9\n",
       "easylistening           7\n",
       "blues                   4\n",
       "jazz                    2\n",
       "classical               1\n",
       "Name: genre, dtype: int64"
      ]
     },
     "execution_count": 16,
     "metadata": {},
     "output_type": "execute_result"
    }
   ],
   "source": [
    "# Viewing new genre value counts\n",
    "\n",
    "df['genre'].value_counts()"
   ]
  },
  {
   "cell_type": "markdown",
   "metadata": {},
   "source": [
    "Now that we have cleaned up the genre column those value counts look much better. However, 22 songs that have a genre of set(), these seem to be a mistake. Considering there are only 22 occurrences, these will be dropped from the dataset."
   ]
  },
  {
   "cell_type": "code",
   "execution_count": 17,
   "metadata": {},
   "outputs": [],
   "source": [
    "# Dropping set() genre\n",
    "\n",
    "df = df[df['genre'] != 'set()']"
   ]
  },
  {
   "cell_type": "code",
   "execution_count": 18,
   "metadata": {},
   "outputs": [
    {
     "data": {
      "text/html": [
       "<div>\n",
       "<style scoped>\n",
       "    .dataframe tbody tr th:only-of-type {\n",
       "        vertical-align: middle;\n",
       "    }\n",
       "\n",
       "    .dataframe tbody tr th {\n",
       "        vertical-align: top;\n",
       "    }\n",
       "\n",
       "    .dataframe thead th {\n",
       "        text-align: right;\n",
       "    }\n",
       "</style>\n",
       "<table border=\"1\" class=\"dataframe\">\n",
       "  <thead>\n",
       "    <tr style=\"text-align: right;\">\n",
       "      <th></th>\n",
       "      <th>duration_ms</th>\n",
       "      <th>explicit</th>\n",
       "      <th>danceability</th>\n",
       "      <th>energy</th>\n",
       "      <th>key</th>\n",
       "      <th>loudness</th>\n",
       "      <th>mode</th>\n",
       "      <th>speechiness</th>\n",
       "      <th>acousticness</th>\n",
       "      <th>instrumentalness</th>\n",
       "      <th>...</th>\n",
       "      <th>genre_blues</th>\n",
       "      <th>genre_classical</th>\n",
       "      <th>genre_country</th>\n",
       "      <th>genre_easylistening</th>\n",
       "      <th>genre_hiphop</th>\n",
       "      <th>genre_jazz</th>\n",
       "      <th>genre_latin</th>\n",
       "      <th>genre_metal</th>\n",
       "      <th>genre_pop</th>\n",
       "      <th>genre_rock</th>\n",
       "    </tr>\n",
       "  </thead>\n",
       "  <tbody>\n",
       "    <tr>\n",
       "      <th>0</th>\n",
       "      <td>211160</td>\n",
       "      <td>0</td>\n",
       "      <td>0.751</td>\n",
       "      <td>0.834</td>\n",
       "      <td>1</td>\n",
       "      <td>-5.444</td>\n",
       "      <td>0</td>\n",
       "      <td>0.0437</td>\n",
       "      <td>0.3000</td>\n",
       "      <td>0.000018</td>\n",
       "      <td>...</td>\n",
       "      <td>0</td>\n",
       "      <td>0</td>\n",
       "      <td>0</td>\n",
       "      <td>0</td>\n",
       "      <td>0</td>\n",
       "      <td>0</td>\n",
       "      <td>0</td>\n",
       "      <td>0</td>\n",
       "      <td>1</td>\n",
       "      <td>0</td>\n",
       "    </tr>\n",
       "    <tr>\n",
       "      <th>1</th>\n",
       "      <td>167066</td>\n",
       "      <td>0</td>\n",
       "      <td>0.434</td>\n",
       "      <td>0.897</td>\n",
       "      <td>0</td>\n",
       "      <td>-4.918</td>\n",
       "      <td>1</td>\n",
       "      <td>0.0488</td>\n",
       "      <td>0.0103</td>\n",
       "      <td>0.000000</td>\n",
       "      <td>...</td>\n",
       "      <td>0</td>\n",
       "      <td>0</td>\n",
       "      <td>0</td>\n",
       "      <td>0</td>\n",
       "      <td>0</td>\n",
       "      <td>0</td>\n",
       "      <td>0</td>\n",
       "      <td>0</td>\n",
       "      <td>0</td>\n",
       "      <td>1</td>\n",
       "    </tr>\n",
       "    <tr>\n",
       "      <th>1</th>\n",
       "      <td>167066</td>\n",
       "      <td>0</td>\n",
       "      <td>0.434</td>\n",
       "      <td>0.897</td>\n",
       "      <td>0</td>\n",
       "      <td>-4.918</td>\n",
       "      <td>1</td>\n",
       "      <td>0.0488</td>\n",
       "      <td>0.0103</td>\n",
       "      <td>0.000000</td>\n",
       "      <td>...</td>\n",
       "      <td>0</td>\n",
       "      <td>0</td>\n",
       "      <td>0</td>\n",
       "      <td>0</td>\n",
       "      <td>0</td>\n",
       "      <td>0</td>\n",
       "      <td>0</td>\n",
       "      <td>0</td>\n",
       "      <td>1</td>\n",
       "      <td>0</td>\n",
       "    </tr>\n",
       "    <tr>\n",
       "      <th>2</th>\n",
       "      <td>250546</td>\n",
       "      <td>0</td>\n",
       "      <td>0.529</td>\n",
       "      <td>0.496</td>\n",
       "      <td>7</td>\n",
       "      <td>-9.007</td>\n",
       "      <td>1</td>\n",
       "      <td>0.0290</td>\n",
       "      <td>0.1730</td>\n",
       "      <td>0.000000</td>\n",
       "      <td>...</td>\n",
       "      <td>0</td>\n",
       "      <td>0</td>\n",
       "      <td>0</td>\n",
       "      <td>0</td>\n",
       "      <td>0</td>\n",
       "      <td>0</td>\n",
       "      <td>0</td>\n",
       "      <td>0</td>\n",
       "      <td>1</td>\n",
       "      <td>0</td>\n",
       "    </tr>\n",
       "    <tr>\n",
       "      <th>2</th>\n",
       "      <td>250546</td>\n",
       "      <td>0</td>\n",
       "      <td>0.529</td>\n",
       "      <td>0.496</td>\n",
       "      <td>7</td>\n",
       "      <td>-9.007</td>\n",
       "      <td>1</td>\n",
       "      <td>0.0290</td>\n",
       "      <td>0.1730</td>\n",
       "      <td>0.000000</td>\n",
       "      <td>...</td>\n",
       "      <td>0</td>\n",
       "      <td>0</td>\n",
       "      <td>1</td>\n",
       "      <td>0</td>\n",
       "      <td>0</td>\n",
       "      <td>0</td>\n",
       "      <td>0</td>\n",
       "      <td>0</td>\n",
       "      <td>0</td>\n",
       "      <td>0</td>\n",
       "    </tr>\n",
       "  </tbody>\n",
       "</table>\n",
       "<p>5 rows × 27 columns</p>\n",
       "</div>"
      ],
      "text/plain": [
       "   duration_ms  explicit  danceability  energy  key  loudness  mode  \\\n",
       "0       211160         0         0.751   0.834    1    -5.444     0   \n",
       "1       167066         0         0.434   0.897    0    -4.918     1   \n",
       "1       167066         0         0.434   0.897    0    -4.918     1   \n",
       "2       250546         0         0.529   0.496    7    -9.007     1   \n",
       "2       250546         0         0.529   0.496    7    -9.007     1   \n",
       "\n",
       "   speechiness  acousticness  instrumentalness  ...  genre_blues  \\\n",
       "0       0.0437        0.3000          0.000018  ...            0   \n",
       "1       0.0488        0.0103          0.000000  ...            0   \n",
       "1       0.0488        0.0103          0.000000  ...            0   \n",
       "2       0.0290        0.1730          0.000000  ...            0   \n",
       "2       0.0290        0.1730          0.000000  ...            0   \n",
       "\n",
       "   genre_classical  genre_country genre_easylistening  genre_hiphop  \\\n",
       "0                0              0                   0             0   \n",
       "1                0              0                   0             0   \n",
       "1                0              0                   0             0   \n",
       "2                0              0                   0             0   \n",
       "2                0              1                   0             0   \n",
       "\n",
       "   genre_jazz  genre_latin  genre_metal  genre_pop  genre_rock  \n",
       "0           0            0            0          1           0  \n",
       "1           0            0            0          0           1  \n",
       "1           0            0            0          1           0  \n",
       "2           0            0            0          1           0  \n",
       "2           0            0            0          0           0  \n",
       "\n",
       "[5 rows x 27 columns]"
      ]
     },
     "execution_count": 18,
     "metadata": {},
     "output_type": "execute_result"
    }
   ],
   "source": [
    "# Creating genre dummy variables and viewing dataframe\n",
    "\n",
    "genre_dummies = pd.get_dummies(df['genre'], prefix='genre', drop_first=True)\n",
    "df = pd.concat([df.drop('genre', axis=1), genre_dummies], axis=1)\n",
    "df.head()"
   ]
  },
  {
   "cell_type": "markdown",
   "metadata": {},
   "source": [
    "## Modeling"
   ]
  },
  {
   "cell_type": "markdown",
   "metadata": {},
   "source": [
    "### Train Test Split/SMOTE/Standardization"
   ]
  },
  {
   "cell_type": "markdown",
   "metadata": {},
   "source": [
    "Before we begin our modeling, we will create our target variable using our `popularity_rank` column. We will create our X variable using all other features in our dataset. We will then create our train and test set using `train_test_split()`. "
   ]
  },
  {
   "cell_type": "code",
   "execution_count": 19,
   "metadata": {},
   "outputs": [],
   "source": [
    "# Assigning variables and splitting data into train and test sets\n",
    "\n",
    "X = df.drop('popularity_rank', axis=1)\n",
    "y = df['popularity_rank']\n",
    "X_train, X_test, y_train, y_test = train_test_split(X, y, random_state=0)"
   ]
  },
  {
   "cell_type": "markdown",
   "metadata": {},
   "source": [
    "To address class imbalance (Class B makes up approximately 80 percent of the data) we will apply SMOTE to our training set to create new synthesized examples of the minority Class A. "
   ]
  },
  {
   "cell_type": "code",
   "execution_count": 20,
   "metadata": {},
   "outputs": [
    {
     "name": "stdout",
     "output_type": "stream",
     "text": [
      "B    2158\n",
      "A     433\n",
      "Name: popularity_rank, dtype: int64\n",
      "B    2158\n",
      "A    2158\n",
      "Name: popularity_rank, dtype: int64\n"
     ]
    }
   ],
   "source": [
    "# Importing SMOTE \n",
    "from imblearn.over_sampling import SMOTE\n",
    "\n",
    "# Viewing original y_train class distribution\n",
    "print(y_train.value_counts()) \n",
    "\n",
    "# Fitting SMOTE to training data\n",
    "X_train_resampled, y_train_resampled = SMOTE(random_state=0).fit_resample(X_train, y_train) \n",
    "\n",
    "# Previewing synthetic sample class distribution\n",
    "print(pd.Series(y_train_resampled).value_counts()) "
   ]
  },
  {
   "cell_type": "markdown",
   "metadata": {},
   "source": [
    "Seeing that some of our audio statistics like `duration_ms`, `key`, and `tempo` are on a different scale compared to the rest of the dataset we should consider some form of normalization. We will use StandardScaler to standardize the data so that our models, especially our K-nearest neighbors model, can have better accuracy."
   ]
  },
  {
   "cell_type": "code",
   "execution_count": 21,
   "metadata": {},
   "outputs": [
    {
     "data": {
      "text/html": [
       "<div>\n",
       "<style scoped>\n",
       "    .dataframe tbody tr th:only-of-type {\n",
       "        vertical-align: middle;\n",
       "    }\n",
       "\n",
       "    .dataframe tbody tr th {\n",
       "        vertical-align: top;\n",
       "    }\n",
       "\n",
       "    .dataframe thead th {\n",
       "        text-align: right;\n",
       "    }\n",
       "</style>\n",
       "<table border=\"1\" class=\"dataframe\">\n",
       "  <thead>\n",
       "    <tr style=\"text-align: right;\">\n",
       "      <th></th>\n",
       "      <th>duration_ms</th>\n",
       "      <th>explicit</th>\n",
       "      <th>danceability</th>\n",
       "      <th>energy</th>\n",
       "      <th>key</th>\n",
       "      <th>loudness</th>\n",
       "      <th>mode</th>\n",
       "      <th>speechiness</th>\n",
       "      <th>acousticness</th>\n",
       "      <th>instrumentalness</th>\n",
       "      <th>...</th>\n",
       "      <th>genre_blues</th>\n",
       "      <th>genre_classical</th>\n",
       "      <th>genre_country</th>\n",
       "      <th>genre_easylistening</th>\n",
       "      <th>genre_hiphop</th>\n",
       "      <th>genre_jazz</th>\n",
       "      <th>genre_latin</th>\n",
       "      <th>genre_metal</th>\n",
       "      <th>genre_pop</th>\n",
       "      <th>genre_rock</th>\n",
       "    </tr>\n",
       "  </thead>\n",
       "  <tbody>\n",
       "    <tr>\n",
       "      <th>0</th>\n",
       "      <td>0.420542</td>\n",
       "      <td>1.940051</td>\n",
       "      <td>-1.254170</td>\n",
       "      <td>0.502446</td>\n",
       "      <td>1.109399</td>\n",
       "      <td>0.607000</td>\n",
       "      <td>-0.943222</td>\n",
       "      <td>2.499796</td>\n",
       "      <td>0.707639</td>\n",
       "      <td>-0.165139</td>\n",
       "      <td>...</td>\n",
       "      <td>-0.021532</td>\n",
       "      <td>-0.015223</td>\n",
       "      <td>-0.059056</td>\n",
       "      <td>-0.034056</td>\n",
       "      <td>2.390039</td>\n",
       "      <td>-0.021532</td>\n",
       "      <td>-0.101487</td>\n",
       "      <td>-0.110432</td>\n",
       "      <td>-0.726118</td>\n",
       "      <td>-0.213407</td>\n",
       "    </tr>\n",
       "    <tr>\n",
       "      <th>1</th>\n",
       "      <td>1.802309</td>\n",
       "      <td>-0.515450</td>\n",
       "      <td>-2.624160</td>\n",
       "      <td>1.127964</td>\n",
       "      <td>-0.965581</td>\n",
       "      <td>-0.275233</td>\n",
       "      <td>1.060196</td>\n",
       "      <td>-0.591830</td>\n",
       "      <td>-0.784732</td>\n",
       "      <td>-0.165081</td>\n",
       "      <td>...</td>\n",
       "      <td>-0.021532</td>\n",
       "      <td>-0.015223</td>\n",
       "      <td>-0.059056</td>\n",
       "      <td>-0.034056</td>\n",
       "      <td>-0.418403</td>\n",
       "      <td>-0.021532</td>\n",
       "      <td>-0.101487</td>\n",
       "      <td>-0.110432</td>\n",
       "      <td>1.377187</td>\n",
       "      <td>-0.213407</td>\n",
       "    </tr>\n",
       "    <tr>\n",
       "      <th>2</th>\n",
       "      <td>-0.004018</td>\n",
       "      <td>-0.515450</td>\n",
       "      <td>0.371753</td>\n",
       "      <td>0.435901</td>\n",
       "      <td>0.516547</td>\n",
       "      <td>0.165085</td>\n",
       "      <td>-0.943222</td>\n",
       "      <td>-0.372656</td>\n",
       "      <td>-0.781670</td>\n",
       "      <td>-0.165067</td>\n",
       "      <td>...</td>\n",
       "      <td>-0.021532</td>\n",
       "      <td>-0.015223</td>\n",
       "      <td>-0.059056</td>\n",
       "      <td>-0.034056</td>\n",
       "      <td>-0.418403</td>\n",
       "      <td>-0.021532</td>\n",
       "      <td>-0.101487</td>\n",
       "      <td>-0.110432</td>\n",
       "      <td>1.377187</td>\n",
       "      <td>-0.213407</td>\n",
       "    </tr>\n",
       "    <tr>\n",
       "      <th>3</th>\n",
       "      <td>0.293747</td>\n",
       "      <td>1.940051</td>\n",
       "      <td>0.048074</td>\n",
       "      <td>-2.106100</td>\n",
       "      <td>0.812973</td>\n",
       "      <td>-1.608432</td>\n",
       "      <td>1.060196</td>\n",
       "      <td>0.366041</td>\n",
       "      <td>-0.427598</td>\n",
       "      <td>-0.165139</td>\n",
       "      <td>...</td>\n",
       "      <td>-0.021532</td>\n",
       "      <td>-0.015223</td>\n",
       "      <td>-0.059056</td>\n",
       "      <td>-0.034056</td>\n",
       "      <td>2.390039</td>\n",
       "      <td>-0.021532</td>\n",
       "      <td>-0.101487</td>\n",
       "      <td>-0.110432</td>\n",
       "      <td>-0.726118</td>\n",
       "      <td>-0.213407</td>\n",
       "    </tr>\n",
       "    <tr>\n",
       "      <th>4</th>\n",
       "      <td>0.933561</td>\n",
       "      <td>-0.515450</td>\n",
       "      <td>-0.230441</td>\n",
       "      <td>-0.362633</td>\n",
       "      <td>-0.076304</td>\n",
       "      <td>-0.195901</td>\n",
       "      <td>1.060196</td>\n",
       "      <td>-0.762298</td>\n",
       "      <td>0.315370</td>\n",
       "      <td>-0.165139</td>\n",
       "      <td>...</td>\n",
       "      <td>-0.021532</td>\n",
       "      <td>-0.015223</td>\n",
       "      <td>-0.059056</td>\n",
       "      <td>-0.034056</td>\n",
       "      <td>-0.418403</td>\n",
       "      <td>-0.021532</td>\n",
       "      <td>-0.101487</td>\n",
       "      <td>-0.110432</td>\n",
       "      <td>1.377187</td>\n",
       "      <td>-0.213407</td>\n",
       "    </tr>\n",
       "  </tbody>\n",
       "</table>\n",
       "<p>5 rows × 26 columns</p>\n",
       "</div>"
      ],
      "text/plain": [
       "   duration_ms  explicit  danceability    energy       key  loudness  \\\n",
       "0     0.420542  1.940051     -1.254170  0.502446  1.109399  0.607000   \n",
       "1     1.802309 -0.515450     -2.624160  1.127964 -0.965581 -0.275233   \n",
       "2    -0.004018 -0.515450      0.371753  0.435901  0.516547  0.165085   \n",
       "3     0.293747  1.940051      0.048074 -2.106100  0.812973 -1.608432   \n",
       "4     0.933561 -0.515450     -0.230441 -0.362633 -0.076304 -0.195901   \n",
       "\n",
       "       mode  speechiness  acousticness  instrumentalness  ...  genre_blues  \\\n",
       "0 -0.943222     2.499796      0.707639         -0.165139  ...    -0.021532   \n",
       "1  1.060196    -0.591830     -0.784732         -0.165081  ...    -0.021532   \n",
       "2 -0.943222    -0.372656     -0.781670         -0.165067  ...    -0.021532   \n",
       "3  1.060196     0.366041     -0.427598         -0.165139  ...    -0.021532   \n",
       "4  1.060196    -0.762298      0.315370         -0.165139  ...    -0.021532   \n",
       "\n",
       "   genre_classical  genre_country  genre_easylistening  genre_hiphop  \\\n",
       "0        -0.015223      -0.059056            -0.034056      2.390039   \n",
       "1        -0.015223      -0.059056            -0.034056     -0.418403   \n",
       "2        -0.015223      -0.059056            -0.034056     -0.418403   \n",
       "3        -0.015223      -0.059056            -0.034056      2.390039   \n",
       "4        -0.015223      -0.059056            -0.034056     -0.418403   \n",
       "\n",
       "   genre_jazz  genre_latin  genre_metal  genre_pop  genre_rock  \n",
       "0   -0.021532    -0.101487    -0.110432  -0.726118   -0.213407  \n",
       "1   -0.021532    -0.101487    -0.110432   1.377187   -0.213407  \n",
       "2   -0.021532    -0.101487    -0.110432   1.377187   -0.213407  \n",
       "3   -0.021532    -0.101487    -0.110432  -0.726118   -0.213407  \n",
       "4   -0.021532    -0.101487    -0.110432   1.377187   -0.213407  \n",
       "\n",
       "[5 rows x 26 columns]"
      ]
     },
     "execution_count": 21,
     "metadata": {},
     "output_type": "execute_result"
    }
   ],
   "source": [
    "# Fitting and transforming the data using StandardScaler\n",
    "\n",
    "from sklearn.preprocessing import StandardScaler\n",
    "\n",
    "scaler = StandardScaler()\n",
    "scaled_data_train = scaler.fit_transform(X_train_resampled)\n",
    "scaled_data_test = scaler.transform(X_test)\n",
    "\n",
    "scaled_df_train = pd.DataFrame(scaled_data_train, columns=X_train.columns)\n",
    "scaled_df_train.head() "
   ]
  },
  {
   "cell_type": "markdown",
   "metadata": {},
   "source": [
    "### Baseline Decision Tree Model"
   ]
  },
  {
   "cell_type": "markdown",
   "metadata": {},
   "source": [
    "Our first model will be a baseline decision tree. We will fit this model using our scaled training set using default parameters."
   ]
  },
  {
   "cell_type": "code",
   "execution_count": 22,
   "metadata": {},
   "outputs": [
    {
     "data": {
      "text/plain": [
       "DecisionTreeClassifier(random_state=0)"
      ]
     },
     "execution_count": 22,
     "metadata": {},
     "output_type": "execute_result"
    }
   ],
   "source": [
    "# Instantiating DecisionTreeClassifier and fitting to training set\n",
    "\n",
    "from sklearn.tree import DecisionTreeClassifier\n",
    "\n",
    "dt = DecisionTreeClassifier(random_state=0)\n",
    "dt.fit(scaled_data_train, y_train_resampled)"
   ]
  },
  {
   "cell_type": "code",
   "execution_count": 23,
   "metadata": {},
   "outputs": [
    {
     "name": "stdout",
     "output_type": "stream",
     "text": [
      "Mean Cross Validation Score: 0.7692358992152833\n"
     ]
    }
   ],
   "source": [
    "# Cross validation\n",
    "\n",
    "from sklearn.model_selection import cross_val_score\n",
    "\n",
    "score = cross_val_score(dt, scaled_data_train, y_train_resampled, cv=3)\n",
    "print('Mean Cross Validation Score:', np.mean(score))"
   ]
  },
  {
   "cell_type": "code",
   "execution_count": 24,
   "metadata": {},
   "outputs": [
    {
     "name": "stdout",
     "output_type": "stream",
     "text": [
      "Baseline DT Train Accuracy: 99.93%\n",
      "Baseline DT Test Accuracy: 68.17%\n"
     ]
    }
   ],
   "source": [
    "# Assessing train and test accuracy scores\n",
    "\n",
    "from sklearn.metrics import accuracy_score\n",
    "\n",
    "dt_baseline_train_preds = dt.predict(scaled_data_train)\n",
    "dt_baseline_test_preds = dt.predict(scaled_data_test)\n",
    "\n",
    "dt_baseline_train_accuracy = accuracy_score(y_train_resampled, dt_baseline_train_preds)\n",
    "dt_baseline_test_accuracy = accuracy_score(y_test, dt_baseline_test_preds)\n",
    "\n",
    "print(f\"Baseline DT Train Accuracy: {dt_baseline_train_accuracy :.2%}\")\n",
    "print(f\"Baseline DT Test Accuracy: {dt_baseline_test_accuracy :.2%}\")"
   ]
  },
  {
   "cell_type": "markdown",
   "metadata": {},
   "source": [
    "Our baseline decision tree model had a testing accuracy of 68%, meaning that of all of the predictions that our model made it was correct 68% of the time. That isn't bad considering this is merely a baseline model with default parameters. Further exploration should be done into the precision, recall, and F1-score of each class. Viewing a confusion matrix and classification report can provide those scores and can help to answer our business problem.  "
   ]
  },
  {
   "cell_type": "code",
   "execution_count": 25,
   "metadata": {},
   "outputs": [
    {
     "data": {
      "image/png": "[encoded data removed]",
      "text/plain": [
       "<Figure size 432x288 with 2 Axes>"
      ]
     },
     "metadata": {
      "needs_background": "light"
     },
     "output_type": "display_data"
    },
    {
     "name": "stdout",
     "output_type": "stream",
     "text": [
      "              precision    recall  f1-score   support\n",
      "\n",
      "           A       0.23      0.31      0.27       160\n",
      "           B       0.83      0.77      0.80       704\n",
      "\n",
      "    accuracy                           0.68       864\n",
      "   macro avg       0.53      0.54      0.53       864\n",
      "weighted avg       0.72      0.68      0.70       864\n",
      "\n"
     ]
    }
   ],
   "source": [
    "# Generate confusion matrix and print classification report\n",
    "\n",
    "from sklearn.metrics import plot_confusion_matrix, classification_report\n",
    "\n",
    "plot_confusion_matrix(dt, scaled_data_test, y_test,\n",
    "                     cmap='OrRd')\n",
    "plt.show()\n",
    "\n",
    "print(classification_report(y_test, dt_baseline_test_preds))"
   ]
  },
  {
   "cell_type": "markdown",
   "metadata": {},
   "source": [
    "**Model Observations:**\n",
    "* A F1-score of .27 for Class A is not ideal. \n",
    "* We have a training accuracy of 99% and a testing accuracy of 68%, suggesting our model is significantly overfitting. By adjusting some hyperparameters, we will try to increase our precision, recall and F1 scores for Class A, and try to address overfitting. \n",
    "* The hyperparamters we will explore in our GridSearch are criterion, max_depth, and min_samples_split."
   ]
  },
  {
   "cell_type": "code",
   "execution_count": 26,
   "metadata": {},
   "outputs": [],
   "source": [
    "# Creating a parameter grid for decision tree GridSearch\n",
    "\n",
    "dt_param_grid = {\n",
    "                'criterion': ['gini', 'entropy'],\n",
    "                'max_depth': np.array(range(1,33)),\n",
    "                'min_samples_split': [4, 6, 8]\n",
    "                }"
   ]
  },
  {
   "cell_type": "code",
   "execution_count": 27,
   "metadata": {},
   "outputs": [
    {
     "data": {
      "text/plain": [
       "GridSearchCV(cv=3, estimator=DecisionTreeClassifier(random_state=0),\n",
       "             param_grid={'criterion': ['gini', 'entropy'],\n",
       "                         'max_depth': array([ 1,  2,  3,  4,  5,  6,  7,  8,  9, 10, 11, 12, 13, 14, 15, 16, 17,\n",
       "       18, 19, 20, 21, 22, 23, 24, 25, 26, 27, 28, 29, 30, 31, 32]),\n",
       "                         'min_samples_split': [4, 6, 8]},\n",
       "             return_train_score=True)"
      ]
     },
     "execution_count": 27,
     "metadata": {},
     "output_type": "execute_result"
    }
   ],
   "source": [
    "# Applying GridSearch to baseline decision tree model\n",
    "\n",
    "dt_tuned = GridSearchCV(dt, dt_param_grid, cv=3, return_train_score=True)\n",
    "dt_tuned.fit(scaled_data_train, y_train_resampled)"
   ]
  },
  {
   "cell_type": "code",
   "execution_count": 28,
   "metadata": {},
   "outputs": [
    {
     "data": {
      "text/plain": [
       "{'criterion': 'entropy', 'max_depth': 21, 'min_samples_split': 4}"
      ]
     },
     "execution_count": 28,
     "metadata": {},
     "output_type": "execute_result"
    }
   ],
   "source": [
    "# Viewing best parameters selected by GridSearch\n",
    "\n",
    "dt_tuned.best_params_"
   ]
  },
  {
   "cell_type": "code",
   "execution_count": 29,
   "metadata": {},
   "outputs": [
    {
     "name": "stdout",
     "output_type": "stream",
     "text": [
      "Mean Cross Validation Score: 0.7757301002634408\n"
     ]
    }
   ],
   "source": [
    "# Cross validation\n",
    "\n",
    "score = cross_val_score(dt_tuned, scaled_data_train, y_train_resampled, cv=3)\n",
    "print('Mean Cross Validation Score:', np.mean(score))"
   ]
  },
  {
   "cell_type": "code",
   "execution_count": 30,
   "metadata": {},
   "outputs": [
    {
     "name": "stdout",
     "output_type": "stream",
     "text": [
      "Tuned DT Train Accuracy: 99.24%\n",
      "Tuned DT Test Accuracy: 69.91%\n"
     ]
    }
   ],
   "source": [
    "# Assessing train and test accuracy scores\n",
    "\n",
    "dt_tuned_train_preds = dt_tuned.predict(scaled_data_train)\n",
    "dt_tuned_test_preds = dt_tuned.predict(scaled_data_test)\n",
    "\n",
    "dt_tuned_train_accuracy = accuracy_score(y_train_resampled, dt_tuned_train_preds)\n",
    "dt_tuned_test_accuracy = accuracy_score(y_test, dt_tuned_test_preds)\n",
    "\n",
    "print(f\"Tuned DT Train Accuracy: {dt_tuned_train_accuracy :.2%}\")\n",
    "print(f\"Tuned DT Test Accuracy: {dt_tuned_test_accuracy :.2%}\")"
   ]
  },
  {
   "cell_type": "code",
   "execution_count": 31,
   "metadata": {},
   "outputs": [
    {
     "data": {
      "image/png": "[encoded data removed]",
      "text/plain": [
       "<Figure size 432x288 with 2 Axes>"
      ]
     },
     "metadata": {
      "needs_background": "light"
     },
     "output_type": "display_data"
    },
    {
     "name": "stdout",
     "output_type": "stream",
     "text": [
      "              precision    recall  f1-score   support\n",
      "\n",
      "           A       0.25      0.33      0.29       160\n",
      "           B       0.84      0.78      0.81       704\n",
      "\n",
      "    accuracy                           0.70       864\n",
      "   macro avg       0.55      0.55      0.55       864\n",
      "weighted avg       0.73      0.70      0.71       864\n",
      "\n"
     ]
    }
   ],
   "source": [
    "# Generate confusion matrix and print classification report\n",
    "\n",
    "plot_confusion_matrix(dt_tuned, scaled_data_test, y_test,\n",
    "                     cmap='OrRd')\n",
    "plt.show()\n",
    "\n",
    "print(classification_report(y_test, dt_tuned_test_preds))"
   ]
  },
  {
   "cell_type": "code",
   "execution_count": 32,
   "metadata": {},
   "outputs": [
    {
     "name": "stdout",
     "output_type": "stream",
     "text": [
      "Baseline DT Train Accuracy: 99.93%\n",
      "Baseline DT Test Accuracy: 68.17%\n",
      "---------------------------------\n",
      "Tuned DT Train Accuracy: 99.24%\n",
      "Tuned DT Test Accuracy: 69.91%\n"
     ]
    }
   ],
   "source": [
    "# Comparing baseline and tuned decision tree model accuracy\n",
    "\n",
    "print(f\"Baseline DT Train Accuracy: {dt_baseline_train_accuracy :.2%}\")\n",
    "print(f\"Baseline DT Test Accuracy: {dt_baseline_test_accuracy :.2%}\")\n",
    "print('---------------------------------')\n",
    "print(f\"Tuned DT Train Accuracy: {dt_tuned_train_accuracy :.2%}\")\n",
    "print(f\"Tuned DT Test Accuracy: {dt_tuned_test_accuracy :.2%}\")"
   ]
  },
  {
   "cell_type": "markdown",
   "metadata": {},
   "source": [
    "By adjusting hyperparameters in our decision tree model we have improved our test accuracy score from 68% to 70%. Our F1-score for Class A saw a slight improvement as well. We saw only a minor drop in our train accuracy, indicating our tuned decision tree model is still significantly overfitting.\n",
    "\n",
    "Next, we will build a KNN baseline model to see if we can improve our accuracy and F1-score."
   ]
  },
  {
   "cell_type": "markdown",
   "metadata": {},
   "source": [
    "## Baseline KNN Model"
   ]
  },
  {
   "cell_type": "markdown",
   "metadata": {},
   "source": [
    "Our next model we will create will be a baseline K-Nearest Neighbors model. Similar to our decision tree model we will begin with default parameters followed by a GridSearch to optimize model performance. "
   ]
  },
  {
   "cell_type": "code",
   "execution_count": 33,
   "metadata": {},
   "outputs": [
    {
     "data": {
      "text/plain": [
       "KNeighborsClassifier()"
      ]
     },
     "execution_count": 33,
     "metadata": {},
     "output_type": "execute_result"
    }
   ],
   "source": [
    "# Creating a baseline KNN model and fitting to train set\n",
    "\n",
    "from sklearn.neighbors import KNeighborsClassifier\n",
    "\n",
    "knn = KNeighborsClassifier()\n",
    "knn.fit(scaled_data_train, y_train_resampled)"
   ]
  },
  {
   "cell_type": "code",
   "execution_count": 34,
   "metadata": {},
   "outputs": [
    {
     "name": "stdout",
     "output_type": "stream",
     "text": [
      "Mean Cross Validation Score: 0.7905563378988459\n"
     ]
    }
   ],
   "source": [
    "# Cross validation\n",
    "\n",
    "score = cross_val_score(knn, scaled_data_train, y_train_resampled, cv=3)\n",
    "print('Mean Cross Validation Score:', np.mean(score))"
   ]
  },
  {
   "cell_type": "markdown",
   "metadata": {},
   "source": [
    "Our KNN baseline cross validation score of .79 is better than our baseline and tuned decision tree models' cross validation scores which is an encouraging sign that this model has better performance in predicting song popularity."
   ]
  },
  {
   "cell_type": "code",
   "execution_count": 35,
   "metadata": {},
   "outputs": [
    {
     "name": "stdout",
     "output_type": "stream",
     "text": [
      "Baseline KNN Train Accuracy: 87.30%\n",
      "Baseline KNN Test Accuracy: 67.48%\n"
     ]
    }
   ],
   "source": [
    "# Assessing train and test accuracy scores\n",
    "\n",
    "knn_baseline_train_preds = knn.predict(scaled_data_train)\n",
    "knn_baseline_test_preds = knn.predict(scaled_data_test)\n",
    "\n",
    "knn_baseline_train_accuracy = accuracy_score(y_train_resampled, knn_baseline_train_preds)\n",
    "knn_baseline_test_accuracy = accuracy_score(y_test, knn_baseline_test_preds)\n",
    "\n",
    "print(f\"Baseline KNN Train Accuracy: {knn_baseline_train_accuracy :.2%}\")\n",
    "print(f\"Baseline KNN Test Accuracy: {knn_baseline_test_accuracy :.2%}\")"
   ]
  },
  {
   "cell_type": "markdown",
   "metadata": {},
   "source": [
    "Our testing accuracy dropped to 67% in our baseline KNN model. Our decision tree model had a testing accuracy of 70%, so we are going in the wrong direction. However, a training accuracy of 87% indicates that this model is not overfitting to the extent our decision tree models had been, which is good."
   ]
  },
  {
   "cell_type": "code",
   "execution_count": 36,
   "metadata": {},
   "outputs": [
    {
     "data": {
      "image/png": "[encoded data removed]",
      "text/plain": [
       "<Figure size 432x288 with 2 Axes>"
      ]
     },
     "metadata": {
      "needs_background": "light"
     },
     "output_type": "display_data"
    },
    {
     "name": "stdout",
     "output_type": "stream",
     "text": [
      "              precision    recall  f1-score   support\n",
      "\n",
      "           A       0.26      0.42      0.32       160\n",
      "           B       0.85      0.73      0.79       704\n",
      "\n",
      "    accuracy                           0.67       864\n",
      "   macro avg       0.56      0.58      0.55       864\n",
      "weighted avg       0.74      0.67      0.70       864\n",
      "\n"
     ]
    }
   ],
   "source": [
    "# Generate confusion matrix and print classification report\n",
    "\n",
    "plot_confusion_matrix(knn, scaled_data_test, y_test,\n",
    "                     cmap='OrRd')\n",
    "plt.show()\n",
    "\n",
    "print(classification_report(y_test, knn_baseline_test_preds))"
   ]
  },
  {
   "cell_type": "markdown",
   "metadata": {},
   "source": [
    "Our baseline K-nearest neighbor model has an accuracy of 67% which is worse than both of our decision tree models. However, we did see a better F1-score of .32 for Class A than that of our decision tree model. By adjusting some hyperparameters we hope to increase our F1-score for Class A and increase our test accuracy score. The hyperparameters we will explore in our GridSearch are n_neighbors and our distance parameter. "
   ]
  },
  {
   "cell_type": "code",
   "execution_count": 37,
   "metadata": {},
   "outputs": [],
   "source": [
    "# Creating paramter grid for KNN GridSearch\n",
    "\n",
    "knn_param_grid = {\n",
    "                'n_neighbors': [10, 15, 20],\n",
    "                'p': [1, 2, 3],\n",
    "                 }"
   ]
  },
  {
   "cell_type": "code",
   "execution_count": 38,
   "metadata": {},
   "outputs": [
    {
     "data": {
      "text/plain": [
       "GridSearchCV(cv=3, estimator=KNeighborsClassifier(),\n",
       "             param_grid={'n_neighbors': [10, 15, 20], 'p': [1, 2, 3]},\n",
       "             return_train_score=True)"
      ]
     },
     "execution_count": 38,
     "metadata": {},
     "output_type": "execute_result"
    }
   ],
   "source": [
    "# Running GridSearch and fitting to train set\n",
    "\n",
    "knn_tuned = GridSearchCV(knn, knn_param_grid, cv=3, return_train_score=True)\n",
    "knn_tuned.fit(scaled_data_train, y_train_resampled)"
   ]
  },
  {
   "cell_type": "code",
   "execution_count": 39,
   "metadata": {},
   "outputs": [
    {
     "data": {
      "text/plain": [
       "{'n_neighbors': 15, 'p': 1}"
      ]
     },
     "execution_count": 39,
     "metadata": {},
     "output_type": "execute_result"
    }
   ],
   "source": [
    "# Viewing GridSearch best parameters\n",
    "\n",
    "knn_tuned.best_params_"
   ]
  },
  {
   "cell_type": "code",
   "execution_count": 40,
   "metadata": {},
   "outputs": [
    {
     "name": "stdout",
     "output_type": "stream",
     "text": [
      "Mean Cross Validation Score: 0.8072419966603553\n"
     ]
    }
   ],
   "source": [
    "# Cross validation for tuned KNN model\n",
    "\n",
    "score = cross_val_score(knn_tuned, scaled_data_train, y_train_resampled, cv=3)\n",
    "print('Mean Cross Validation Score:', np.mean(score))"
   ]
  },
  {
   "cell_type": "code",
   "execution_count": 41,
   "metadata": {},
   "outputs": [
    {
     "name": "stdout",
     "output_type": "stream",
     "text": [
      "Tuned KNN Train Accuracy: 85.80%\n",
      "Tuned KNN Test Accuracy: 68.52%\n"
     ]
    }
   ],
   "source": [
    "# Assessing train and test accuracy scores\n",
    "\n",
    "knn_tuned_train_preds = knn_tuned.predict(scaled_data_train)\n",
    "knn_tuned_test_preds = knn_tuned.predict(scaled_data_test)\n",
    "\n",
    "knn_tuned_train_accuracy = accuracy_score(y_train_resampled, knn_tuned_train_preds)\n",
    "knn_tuned_test_accuracy = accuracy_score(y_test, knn_tuned_test_preds)\n",
    "\n",
    "print(f\"Tuned KNN Train Accuracy: {knn_tuned_train_accuracy :.2%}\")\n",
    "print(f\"Tuned KNN Test Accuracy: {knn_tuned_test_accuracy :.2%}\")"
   ]
  },
  {
   "cell_type": "code",
   "execution_count": 42,
   "metadata": {},
   "outputs": [
    {
     "data": {
      "image/png": "[encoded data removed]",
      "text/plain": [
       "<Figure size 432x288 with 2 Axes>"
      ]
     },
     "metadata": {
      "needs_background": "light"
     },
     "output_type": "display_data"
    },
    {
     "name": "stdout",
     "output_type": "stream",
     "text": [
      "              precision    recall  f1-score   support\n",
      "\n",
      "           A       0.27      0.40      0.32       160\n",
      "           B       0.85      0.75      0.80       704\n",
      "\n",
      "    accuracy                           0.69       864\n",
      "   macro avg       0.56      0.57      0.56       864\n",
      "weighted avg       0.74      0.69      0.71       864\n",
      "\n"
     ]
    }
   ],
   "source": [
    "# Generate confusion matrix and print classification report\n",
    "\n",
    "plot_confusion_matrix(knn_tuned, scaled_data_test, y_test,\n",
    "                     cmap='OrRd')\n",
    "plt.show()\n",
    "\n",
    "print(classification_report(y_test, knn_tuned_test_preds))"
   ]
  },
  {
   "cell_type": "code",
   "execution_count": 43,
   "metadata": {},
   "outputs": [
    {
     "name": "stdout",
     "output_type": "stream",
     "text": [
      "Baseline KNN Train Accuracy: 87.30%\n",
      "Baseline KNN Test Accuracy: 67.48%\n",
      "---------------------------------\n",
      "Tuned KNN Train Accuracy: 85.80%\n",
      "Tuned KNN Test Accuracy: 68.52%\n"
     ]
    }
   ],
   "source": [
    "# Comparing baseline and tuned decision tree model accuracy\n",
    "\n",
    "print(f\"Baseline KNN Train Accuracy: {knn_baseline_train_accuracy :.2%}\")\n",
    "print(f\"Baseline KNN Test Accuracy: {knn_baseline_test_accuracy :.2%}\")\n",
    "print('---------------------------------')\n",
    "print(f\"Tuned KNN Train Accuracy: {knn_tuned_train_accuracy :.2%}\")\n",
    "print(f\"Tuned KNN Test Accuracy: {knn_tuned_test_accuracy :.2%}\")"
   ]
  },
  {
   "cell_type": "markdown",
   "metadata": {},
   "source": [
    "By adjusting hyperparameters in our KNN model we have improved our test accuracy score from 67% to 69%. Our F1-score for Class A saw no improvement. While we are still overfitting, we saw a drop in our train accuracy from 87% to 86%, indicating our tuned KNN model isn't overfitting to the extent our baseline model or decision tree models were. \n",
    "\n",
    "Our tuned KNN model test accuracy score saw no significant improvement when compared to our decision tree models, next we will build a random forest baseline model to see if we can improve our accuracy and F1-score."
   ]
  },
  {
   "cell_type": "markdown",
   "metadata": {},
   "source": [
    "## Random Forest Baseline Model"
   ]
  },
  {
   "cell_type": "markdown",
   "metadata": {},
   "source": [
    "For our next model, we will create a baseline Random Forest model. Similar to our models above we will begin with default parameters followed by a GridSearch to optimize model performance. "
   ]
  },
  {
   "cell_type": "code",
   "execution_count": 44,
   "metadata": {},
   "outputs": [
    {
     "data": {
      "text/plain": [
       "RandomForestClassifier(random_state=0)"
      ]
     },
     "execution_count": 44,
     "metadata": {},
     "output_type": "execute_result"
    }
   ],
   "source": [
    "# Instantiating RandomForestClassifier\n",
    "\n",
    "from sklearn.ensemble import RandomForestClassifier\n",
    "\n",
    "forest = RandomForestClassifier(random_state=0)\n",
    "forest.fit(scaled_data_train, y_train_resampled)"
   ]
  },
  {
   "cell_type": "code",
   "execution_count": 45,
   "metadata": {},
   "outputs": [
    {
     "name": "stdout",
     "output_type": "stream",
     "text": [
      "Mean Cross Validation Score: 0.8830088568563074\n"
     ]
    }
   ],
   "source": [
    "# Cross validation\n",
    "\n",
    "score = cross_val_score(forest, scaled_data_train, y_train_resampled, cv=3)\n",
    "print('Mean Cross Validation Score:', np.mean(score))"
   ]
  },
  {
   "cell_type": "code",
   "execution_count": 46,
   "metadata": {},
   "outputs": [
    {
     "name": "stdout",
     "output_type": "stream",
     "text": [
      "Baseline RF Train Accuracy: 99.93%\n",
      "Baseline RF Test Accuracy: 81.48%\n"
     ]
    }
   ],
   "source": [
    "# Assessing train and test accuracy scores\n",
    "\n",
    "forest_baseline_train_preds = forest.predict(scaled_data_train)\n",
    "forest_baseline_test_preds = forest.predict(scaled_data_test)\n",
    "\n",
    "forest_baseline_train_accuracy = accuracy_score(y_train_resampled, forest_baseline_train_preds)\n",
    "forest_baseline_test_accuracy = accuracy_score(y_test, forest_baseline_test_preds)\n",
    "\n",
    "print(f\"Baseline RF Train Accuracy: {forest_baseline_train_accuracy :.2%}\")\n",
    "print(f\"Baseline RF Test Accuracy: {forest_baseline_test_accuracy :.2%}\")"
   ]
  },
  {
   "cell_type": "markdown",
   "metadata": {},
   "source": [
    "With a cross validation score of .88 and a test accuracy of 81%, our baseline random forest model has outperformed all previous models. This is encouraging considering this was accomplished with only default parameters."
   ]
  },
  {
   "cell_type": "code",
   "execution_count": 47,
   "metadata": {},
   "outputs": [
    {
     "data": {
      "image/png": "[encoded data removed]",
      "text/plain": [
       "<Figure size 432x288 with 2 Axes>"
      ]
     },
     "metadata": {
      "needs_background": "light"
     },
     "output_type": "display_data"
    },
    {
     "name": "stdout",
     "output_type": "stream",
     "text": [
      "              precision    recall  f1-score   support\n",
      "\n",
      "           A       0.50      0.34      0.41       160\n",
      "           B       0.86      0.92      0.89       704\n",
      "\n",
      "    accuracy                           0.81       864\n",
      "   macro avg       0.68      0.63      0.65       864\n",
      "weighted avg       0.79      0.81      0.80       864\n",
      "\n"
     ]
    }
   ],
   "source": [
    "# Generate confusion matrix and print classification report\n",
    "\n",
    "plot_confusion_matrix(forest, scaled_data_test, y_test,\n",
    "                     cmap='OrRd')\n",
    "plt.show()\n",
    "\n",
    "print(classification_report(y_test, forest_baseline_test_preds))"
   ]
  },
  {
   "cell_type": "markdown",
   "metadata": {},
   "source": [
    "Our baseline random forest model had an F1-score of .41 and a test accuracy score of 81%, making this our best performing model thus far. We are overfitting with a cross validation score of .88 and a test score of .81, although not to the extent of our previous models. In our GridSearch will we try to address this by adjusting the max_features and max_depth parameters. We hope our GridSearch will also produce an even better F1-score and accuracy metrics."
   ]
  },
  {
   "cell_type": "markdown",
   "metadata": {},
   "source": [
    "### Random Forest Hyperparameter Tuning"
   ]
  },
  {
   "cell_type": "code",
   "execution_count": 48,
   "metadata": {},
   "outputs": [],
   "source": [
    "# Creating paramter grid for random forest GridSearch\n",
    "\n",
    "rf_param_grid = {'n_estimators': [300],\n",
    "                 'criterion': ['gini', 'entropy'],\n",
    "                 'max_features': [2, 5, 10],\n",
    "                 'max_depth': [15, 20, 25],\n",
    "                 'min_samples_split': [2, 4],\n",
    "                 'min_samples_leaf': [1]}"
   ]
  },
  {
   "cell_type": "code",
   "execution_count": 49,
   "metadata": {},
   "outputs": [
    {
     "data": {
      "text/plain": [
       "GridSearchCV(cv=3, estimator=RandomForestClassifier(random_state=0),\n",
       "             param_grid={'criterion': ['gini', 'entropy'],\n",
       "                         'max_depth': [15, 20, 25], 'max_features': [2, 5, 10],\n",
       "                         'min_samples_leaf': [1], 'min_samples_split': [2, 4],\n",
       "                         'n_estimators': [300]})"
      ]
     },
     "execution_count": 49,
     "metadata": {},
     "output_type": "execute_result"
    }
   ],
   "source": [
    "forest_tuned = GridSearchCV(forest, rf_param_grid, cv=3)\n",
    "forest_tuned.fit(scaled_data_train, y_train_resampled)"
   ]
  },
  {
   "cell_type": "code",
   "execution_count": 50,
   "metadata": {},
   "outputs": [
    {
     "data": {
      "text/plain": [
       "{'criterion': 'gini',\n",
       " 'max_depth': 25,\n",
       " 'max_features': 2,\n",
       " 'min_samples_leaf': 1,\n",
       " 'min_samples_split': 2,\n",
       " 'n_estimators': 300}"
      ]
     },
     "execution_count": 50,
     "metadata": {},
     "output_type": "execute_result"
    }
   ],
   "source": [
    "# Viewing GridSearch best parameters\n",
    "\n",
    "forest_tuned.best_params_"
   ]
  },
  {
   "cell_type": "code",
   "execution_count": 51,
   "metadata": {},
   "outputs": [
    {
     "name": "stdout",
     "output_type": "stream",
     "text": [
      "Mean Cross Validation Score: 0.9008464449665795\n"
     ]
    }
   ],
   "source": [
    "# Cross validation\n",
    "\n",
    "score = cross_val_score(forest_tuned, scaled_data_train, y_train_resampled, cv=3)\n",
    "print('Mean Cross Validation Score:', np.mean(score))"
   ]
  },
  {
   "cell_type": "code",
   "execution_count": 52,
   "metadata": {},
   "outputs": [
    {
     "name": "stdout",
     "output_type": "stream",
     "text": [
      "Tuned RF Train Accuracy: 99.93%\n",
      "Baseline RF Test Accuracy: 84.61%\n"
     ]
    }
   ],
   "source": [
    "# Assessing train and test accuracy scores\n",
    "\n",
    "forest_tuned_train_preds = forest_tuned.predict(scaled_data_train)\n",
    "forest_tuned_test_preds = forest_tuned.predict(scaled_data_test)\n",
    "\n",
    "RF_tuned_train_accuracy = accuracy_score(y_train_resampled, forest_tuned_train_preds)\n",
    "RF_tuned_test_accuracy = accuracy_score(y_test, forest_tuned_test_preds)\n",
    "\n",
    "print(f\"Tuned RF Train Accuracy: {RF_tuned_train_accuracy :.2%}\")\n",
    "print(f\"Baseline RF Test Accuracy: {RF_tuned_test_accuracy :.2%}\")"
   ]
  },
  {
   "cell_type": "code",
   "execution_count": 53,
   "metadata": {},
   "outputs": [
    {
     "data": {
      "image/png": "[encoded data removed]",
      "text/plain": [
       "<Figure size 432x288 with 2 Axes>"
      ]
     },
     "metadata": {
      "needs_background": "light"
     },
     "output_type": "display_data"
    },
    {
     "name": "stdout",
     "output_type": "stream",
     "text": [
      "              precision    recall  f1-score   support\n",
      "\n",
      "           A       0.64      0.39      0.48       160\n",
      "           B       0.87      0.95      0.91       704\n",
      "\n",
      "    accuracy                           0.85       864\n",
      "   macro avg       0.76      0.67      0.70       864\n",
      "weighted avg       0.83      0.85      0.83       864\n",
      "\n"
     ]
    }
   ],
   "source": [
    "# Generate confusion matrix and print classification report\n",
    "\n",
    "plot_confusion_matrix(forest_tuned, scaled_data_test, y_test,\n",
    "                     cmap='OrRd')\n",
    "plt.show()\n",
    "\n",
    "print(classification_report(y_test, forest_tuned_test_preds))"
   ]
  },
  {
   "cell_type": "code",
   "execution_count": 54,
   "metadata": {},
   "outputs": [
    {
     "name": "stdout",
     "output_type": "stream",
     "text": [
      "Baseline RF Train Accuracy: 99.93%\n",
      "Baseline RF Test Accuracy: 81.48%\n",
      "---------------------------------\n",
      "Tuned RF Train Accuracy: 99.93%\n",
      "Tuned RF Test Accuracy: 84.61%\n"
     ]
    }
   ],
   "source": [
    "# Comparing baseline and tuned random forest model accuracy\n",
    "\n",
    "print(f\"Baseline RF Train Accuracy: {forest_baseline_train_accuracy :.2%}\")\n",
    "print(f\"Baseline RF Test Accuracy: {forest_baseline_test_accuracy :.2%}\")\n",
    "print('---------------------------------')\n",
    "print(f\"Tuned RF Train Accuracy: {RF_tuned_train_accuracy :.2%}\")\n",
    "print(f\"Tuned RF Test Accuracy: {RF_tuned_test_accuracy :.2%}\")"
   ]
  },
  {
   "cell_type": "markdown",
   "metadata": {},
   "source": [
    "By adjusting hyperparameters in our random forest model we have improved our test accuracy score from 81% to 85%. Our F1-score for Class A also saw an improvement from .41 to .48, which is great!\n",
    "\n",
    "Our tuned random forest model with a test accuracy score of 85% significantly outperformed our tuned decision tree model with a test accuracy score of 70%, making our tuned random forest model the best predictor so far. Next, we will build a gradient boost model to see if we can improve our accuracy and F1-score even more."
   ]
  },
  {
   "cell_type": "markdown",
   "metadata": {},
   "source": [
    "## XGBoost Baseline Model"
   ]
  },
  {
   "cell_type": "markdown",
   "metadata": {},
   "source": [
    "Next, we will build a baseline model using gradient boost, particularly XGBoost. XGBoost requires that classification categories be integers that count up from 0. We will instantiate a LabelEncoder and convert both y_train and y_test into arrays containing integers counting up from 0."
   ]
  },
  {
   "cell_type": "code",
   "execution_count": 55,
   "metadata": {},
   "outputs": [
    {
     "data": {
      "text/plain": [
       "XGBClassifier(base_score=0.5, booster='gbtree', colsample_bylevel=1,\n",
       "              colsample_bynode=1, colsample_bytree=1, gamma=0, gpu_id=-1,\n",
       "              importance_type='gain', interaction_constraints='',\n",
       "              learning_rate=0.300000012, max_delta_step=0, max_depth=6,\n",
       "              min_child_weight=1, missing=nan, monotone_constraints='()',\n",
       "              n_estimators=100, n_jobs=0, num_parallel_tree=1, random_state=0,\n",
       "              reg_alpha=0, reg_lambda=1, scale_pos_weight=1, subsample=1,\n",
       "              tree_method='exact', validate_parameters=1, verbosity=None)"
      ]
     },
     "execution_count": 55,
     "metadata": {},
     "output_type": "execute_result"
    }
   ],
   "source": [
    "# Instantiating XGBoost and fitting to training data\n",
    "\n",
    "from xgboost import XGBClassifier\n",
    "\n",
    "boost = XGBClassifier(random_state=0)\n",
    "boost.fit(scaled_data_train, y_train_resampled)"
   ]
  },
  {
   "cell_type": "code",
   "execution_count": 56,
   "metadata": {},
   "outputs": [
    {
     "name": "stdout",
     "output_type": "stream",
     "text": [
      "Mean Cross Validation Score: 0.9131542101197374\n"
     ]
    }
   ],
   "source": [
    "# Cross validation\n",
    "\n",
    "score = cross_val_score(boost, scaled_data_train, y_train_resampled)\n",
    "print('Mean Cross Validation Score:', np.mean(score))"
   ]
  },
  {
   "cell_type": "code",
   "execution_count": 57,
   "metadata": {},
   "outputs": [
    {
     "name": "stdout",
     "output_type": "stream",
     "text": [
      "Baseline Boost Train Accuracy: 99.93%\n",
      "Baseline Boost Test Accuracy: 87.27%\n"
     ]
    }
   ],
   "source": [
    "# Assessing train and test accuracy scores\n",
    "\n",
    "boost_baseline_train_preds = boost.predict(scaled_data_train)\n",
    "boost_baseline_test_preds = boost.predict(scaled_data_test)\n",
    "\n",
    "boost_baseline_train_accuracy = accuracy_score(y_train_resampled, boost_baseline_train_preds)\n",
    "boost_baseline_test_accuracy = accuracy_score(y_test, boost_baseline_test_preds)\n",
    "\n",
    "print(f\"Baseline Boost Train Accuracy: {boost_baseline_train_accuracy :.2%}\")\n",
    "print(f\"Baseline Boost Test Accuracy: {boost_baseline_test_accuracy :.2%}\")"
   ]
  },
  {
   "cell_type": "markdown",
   "metadata": {},
   "source": [
    "This is our best performing baseline model, with a cross validation score of .91 and a test accuracy of 87%.  "
   ]
  },
  {
   "cell_type": "code",
   "execution_count": 58,
   "metadata": {},
   "outputs": [
    {
     "data": {
      "image/png": "[encoded data removed]",
      "text/plain": [
       "<Figure size 432x288 with 2 Axes>"
      ]
     },
     "metadata": {
      "needs_background": "light"
     },
     "output_type": "display_data"
    },
    {
     "name": "stdout",
     "output_type": "stream",
     "text": [
      "              precision    recall  f1-score   support\n",
      "\n",
      "           A       0.71      0.53      0.61       160\n",
      "           B       0.90      0.95      0.92       704\n",
      "\n",
      "    accuracy                           0.87       864\n",
      "   macro avg       0.80      0.74      0.77       864\n",
      "weighted avg       0.86      0.87      0.87       864\n",
      "\n"
     ]
    }
   ],
   "source": [
    "# Generate confusion matrix and print classification report\n",
    "\n",
    "plot_confusion_matrix(boost, scaled_data_test, y_test,\n",
    "                     cmap='OrRd')\n",
    "plt.show()\n",
    "\n",
    "print(classification_report(y_test, boost_baseline_test_preds))"
   ]
  },
  {
   "cell_type": "markdown",
   "metadata": {},
   "source": [
    "Our baseline gradient boost model had an F1-score of .61 and a test accuracy score of 87%, making this our best performing model thus far. We are still slightly overfitting with a cross validation score of .91 and a test score of .87, although not to the extent of our previous models. We hope our GridSearch will produce an even better F1-score and accuracy metrics by adjusting learning_rate, max_depth, min_child_weight, subsample, and n_estimators."
   ]
  },
  {
   "cell_type": "markdown",
   "metadata": {},
   "source": [
    "### XGBoost Hyperparamter Tuning"
   ]
  },
  {
   "cell_type": "code",
   "execution_count": 59,
   "metadata": {},
   "outputs": [],
   "source": [
    "# Creating paramter grid for XGBoost GridSearch\n",
    "\n",
    "param_grid = {\n",
    "    'learning_rate': [0.1, 0.2, 0.3],\n",
    "    'max_depth': [5, 10 , 15],\n",
    "    'min_child_weight': [1, 2],\n",
    "    'subsample': [0.5, 0.7],\n",
    "    'n_estimators': [200],\n",
    "}"
   ]
  },
  {
   "cell_type": "code",
   "execution_count": 60,
   "metadata": {},
   "outputs": [
    {
     "data": {
      "text/plain": [
       "GridSearchCV(estimator=XGBClassifier(base_score=0.5, booster='gbtree',\n",
       "                                     colsample_bylevel=1, colsample_bynode=1,\n",
       "                                     colsample_bytree=1, gamma=0, gpu_id=-1,\n",
       "                                     importance_type='gain',\n",
       "                                     interaction_constraints='',\n",
       "                                     learning_rate=0.300000012,\n",
       "                                     max_delta_step=0, max_depth=6,\n",
       "                                     min_child_weight=1, missing=nan,\n",
       "                                     monotone_constraints='()',\n",
       "                                     n_estimators=100, n_jobs=0,\n",
       "                                     num_parallel_tree=1, random_state=0,\n",
       "                                     reg_alpha=0, reg_lambda=1,\n",
       "                                     scale_pos_weight=1, subsample=1,\n",
       "                                     tree_method='exact', validate_parameters=1,\n",
       "                                     verbosity=None),\n",
       "             n_jobs=1,\n",
       "             param_grid={'learning_rate': [0.1, 0.2, 0.3],\n",
       "                         'max_depth': [5, 10, 15], 'min_child_weight': [1, 2],\n",
       "                         'n_estimators': [200], 'subsample': [0.5, 0.7]},\n",
       "             scoring='accuracy')"
      ]
     },
     "execution_count": 60,
     "metadata": {},
     "output_type": "execute_result"
    }
   ],
   "source": [
    "# Fitting GridSearch to training data\n",
    "\n",
    "tuned_boost = GridSearchCV(boost, param_grid, scoring='accuracy', cv=None, n_jobs=1)\n",
    "tuned_boost.fit(scaled_data_train, y_train_resampled)"
   ]
  },
  {
   "cell_type": "code",
   "execution_count": 61,
   "metadata": {},
   "outputs": [
    {
     "name": "stdout",
     "output_type": "stream",
     "text": [
      "Baseline DT Train Accuracy: 99.93%\n",
      "Baseline DT Test Accuracy: 89.35%\n"
     ]
    }
   ],
   "source": [
    "# Assessing train and test accuracy scores\n",
    "\n",
    "tuned_boost_train_preds = tuned_boost.predict(scaled_data_train)\n",
    "tuned_boost_test_preds = tuned_boost.predict(scaled_data_test)\n",
    "\n",
    "tuned_boost_train_accuracy = accuracy_score(y_train_resampled, tuned_boost_train_preds)\n",
    "tuned_boost_test_accuracy = accuracy_score(y_test, tuned_boost_test_preds)\n",
    "\n",
    "print(f\"Baseline DT Train Accuracy: {tuned_boost_train_accuracy :.2%}\")\n",
    "print(f\"Baseline DT Test Accuracy: {tuned_boost_test_accuracy :.2%}\")"
   ]
  },
  {
   "cell_type": "code",
   "execution_count": 62,
   "metadata": {},
   "outputs": [
    {
     "data": {
      "text/plain": [
       "{'learning_rate': 0.3,\n",
       " 'max_depth': 10,\n",
       " 'min_child_weight': 1,\n",
       " 'n_estimators': 200,\n",
       " 'subsample': 0.5}"
      ]
     },
     "execution_count": 62,
     "metadata": {},
     "output_type": "execute_result"
    }
   ],
   "source": [
    "# Viewing GridSearch best parameters\n",
    "\n",
    "tuned_boost.best_params_"
   ]
  },
  {
   "cell_type": "code",
   "execution_count": 63,
   "metadata": {},
   "outputs": [
    {
     "name": "stdout",
     "output_type": "stream",
     "text": [
      "Mean Cross Validation Score: 0.9073321084318136\n"
     ]
    }
   ],
   "source": [
    "# Cross validation\n",
    "\n",
    "score = cross_val_score(tuned_boost, scaled_data_train, y_train_resampled, cv=3)\n",
    "print('Mean Cross Validation Score:', np.mean(score))"
   ]
  },
  {
   "cell_type": "code",
   "execution_count": 64,
   "metadata": {},
   "outputs": [
    {
     "data": {
      "image/png": "[encoded data removed]",
      "text/plain": [
       "<Figure size 432x288 with 2 Axes>"
      ]
     },
     "metadata": {
      "needs_background": "light"
     },
     "output_type": "display_data"
    },
    {
     "name": "stdout",
     "output_type": "stream",
     "text": [
      "              precision    recall  f1-score   support\n",
      "\n",
      "           A       0.77      0.61      0.68       160\n",
      "           B       0.91      0.96      0.94       704\n",
      "\n",
      "    accuracy                           0.89       864\n",
      "   macro avg       0.84      0.78      0.81       864\n",
      "weighted avg       0.89      0.89      0.89       864\n",
      "\n"
     ]
    }
   ],
   "source": [
    "# Generate confusion matrix and print classification report\n",
    "\n",
    "plot_confusion_matrix(tuned_boost, scaled_data_test, y_test,\n",
    "                     cmap='OrRd', labels=['A', 'B'])\n",
    "plt.show()\n",
    "\n",
    "print(classification_report(y_test, tuned_boost_test_preds))"
   ]
  },
  {
   "cell_type": "code",
   "execution_count": 65,
   "metadata": {},
   "outputs": [
    {
     "name": "stdout",
     "output_type": "stream",
     "text": [
      "Baseline Boost Train Accuracy: 99.93%\n",
      "Baseline Boost Test Accuracy: 87.27%\n",
      "---------------------------------\n",
      "Tuned Boost Train Accuracy: 99.93%\n",
      "Tuned Boost Test Accuracy: 89.35%\n"
     ]
    }
   ],
   "source": [
    "# Comparing baseline and tuned gradient boost model accuracy\n",
    "\n",
    "print(f\"Baseline Boost Train Accuracy: {boost_baseline_train_accuracy :.2%}\")\n",
    "print(f\"Baseline Boost Test Accuracy: {boost_baseline_test_accuracy :.2%}\")\n",
    "print('---------------------------------')\n",
    "print(f\"Tuned Boost Train Accuracy: {tuned_boost_train_accuracy :.2%}\")\n",
    "print(f\"Tuned Boost Test Accuracy: {tuned_boost_test_accuracy :.2%}\")"
   ]
  },
  {
   "cell_type": "code",
   "execution_count": 66,
   "metadata": {},
   "outputs": [
    {
     "data": {
      "image/png": "[encoded data removed]",
      "text/plain": [
       "<Figure size 576x576 with 1 Axes>"
      ]
     },
     "metadata": {
      "needs_background": "light"
     },
     "output_type": "display_data"
    }
   ],
   "source": [
    "# Plotting feature importances\n",
    "\n",
    "def plot_feature_importances(model):\n",
    "    n_features = scaled_data_train.shape[1]\n",
    "    plt.figure(figsize=(8,8))\n",
    "    plt.barh(range(n_features), model.feature_importances_, align='center', color='grey') \n",
    "    plt.yticks(np.arange(n_features), scaled_df_train.columns.values) \n",
    "    plt.xlabel('Importance')\n",
    "    plt.ylabel('Feature')\n",
    "    plt.title('Feature Importance on Song Popularity')\n",
    "plot_feature_importances(boost)"
   ]
  },
  {
   "cell_type": "markdown",
   "metadata": {},
   "source": [
    "## Model Observations:\n",
    "We created 4 different baseline models: Decision Tree, K-Nearest Neighbors, Random Forest, and XGBoost. After assessing the performance of each model we then used GridSearchCV to select hyperparameters to optimize model performance. We found our tuned XGBoost model to be most effective at predicting song popularity. Here are some observations of our final model:\n",
    "\n",
    "**Class A (80th percentile):** If we predicted every song to be in Class A, we would have an accuracy of 20%.\n",
    "\n",
    "**Class B (<80th percentile):** If we predicted every song to be in Class B, we would have an accuracy of 80%.\n",
    "\n",
    "**Recall:** Our final model correctly identified 61% of the songs that were actually in Class A (true positives), alternatively our model labeled 39% of Class A as Class B (false negatives). \n",
    "\n",
    "**Precision:** Of all the times our model predicted a song to be in the 80th percentile, 77% were indeed in Class A (true positives), alternatively 23% were actually in Class B (false positives).\n",
    "\n",
    "**Accuracy:** Out of all the predictions our model made for Class A and Class B, 89% of them were correct.\n",
    "\n",
    "**F1-Score:** F1-score is the harmonic mean of precision and recall, meaning both metrics need to be high for the F1-score to be high. The closer this value is to 1, the better your model is overall. With a value of .68, there is room for improvement but it is the highest score of all the models we explored.\n",
    "\n",
    "**Features:** Hiphop, Rock, and R&B genres have the most influence as features in determining song popularity."
   ]
  },
  {
   "cell_type": "markdown",
   "metadata": {},
   "source": [
    "## Conclusion\n",
    "\n",
    "After our analysis, we can conclude that you can indeed predict song popularity using audio statistics. Our final model had an accuracy of 89%, meaning out of all the predictions our model made, 89% of them were correct. Our model is more likely to produce false negatives, a song that it predicts will be < 80th percentile when it's actually in the 80th percentile, and less likely to produce false positives, a song that it predicts will be in the 80th percentile when it is < 80th percentile. This is good from a business standpoint, as the record company can fund the production of future songs with 77% certainty they will turn out to be popular on the open market.\n",
    "\n",
    "The feature importance plot above assigns a score to input features based on how useful they are at predicting song popularity. According to this plot a genre of hiphop, R&B, and rock are most important when it comes to predicting song popularity. Pay extra attention to these genres when writing and producing future songs. \n",
    "\n",
    "\n"
   ]
  },
  {
   "cell_type": "markdown",
   "metadata": {},
   "source": [
    "## Limitations and Future Analysis\n",
    "\n",
    "While we used four different classification models for this project there are several more that may prove to have better performance, a couple that comes to mind would be Naive Bayes and Adaboost. Applying these models to the dataset would make for a more complete exploration of predictive power. We used GridSearchCV to improve the performance of each model, this iterative approach saw each model improve upon its baseline version. However, there are several hyperparameters that we did not address that could help improve model performance. Further analysis that addresses more hyperparameters has the potential to produce improved model performance. Additionally, future analysis and modeling might want to consider a couple of items:\n",
    "\n",
    "1. The data we used in this analysis was from 2000-2019. Using songs and their audio statistic from 2019-2022 would help to make song popularity predictions in a more present music industry.\n",
    "\n",
    "\n",
    "2. We wanted to make a classification model for this project, future analysis should look into a regression model and its capabilities in predicting song popularity."
   ]
  }
 ],
 "metadata": {
  "kernelspec": {
   "display_name": "Python (learn-env)",
   "language": "python",
   "name": "learn-env"
  },
  "language_info": {
   "codemirror_mode": {
    "name": "ipython",
    "version": 3
   },
   "file_extension": ".py",
   "mimetype": "text/x-python",
   "name": "python",
   "nbconvert_exporter": "python",
   "pygments_lexer": "ipython3",
   "version": "3.8.5"
  }
 },
 "nbformat": 4,
 "nbformat_minor": 4
}
